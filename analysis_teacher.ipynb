{
 "cells": [
  {
   "cell_type": "code",
   "execution_count": 1,
   "metadata": {},
   "outputs": [
    {
     "name": "stderr",
     "output_type": "stream",
     "text": [
      "Using TensorFlow backend.\n",
      "/usr/local/lib/python3.6/dist-packages/tensorflow/python/framework/dtypes.py:523: FutureWarning: Passing (type, 1) or '1type' as a synonym of type is deprecated; in a future version of numpy, it will be understood as (type, (1,)) / '(1,)type'.\n",
      "  _np_qint8 = np.dtype([(\"qint8\", np.int8, 1)])\n",
      "/usr/local/lib/python3.6/dist-packages/tensorflow/python/framework/dtypes.py:524: FutureWarning: Passing (type, 1) or '1type' as a synonym of type is deprecated; in a future version of numpy, it will be understood as (type, (1,)) / '(1,)type'.\n",
      "  _np_quint8 = np.dtype([(\"quint8\", np.uint8, 1)])\n",
      "/usr/local/lib/python3.6/dist-packages/tensorflow/python/framework/dtypes.py:525: FutureWarning: Passing (type, 1) or '1type' as a synonym of type is deprecated; in a future version of numpy, it will be understood as (type, (1,)) / '(1,)type'.\n",
      "  _np_qint16 = np.dtype([(\"qint16\", np.int16, 1)])\n",
      "/usr/local/lib/python3.6/dist-packages/tensorflow/python/framework/dtypes.py:526: FutureWarning: Passing (type, 1) or '1type' as a synonym of type is deprecated; in a future version of numpy, it will be understood as (type, (1,)) / '(1,)type'.\n",
      "  _np_quint16 = np.dtype([(\"quint16\", np.uint16, 1)])\n",
      "/usr/local/lib/python3.6/dist-packages/tensorflow/python/framework/dtypes.py:527: FutureWarning: Passing (type, 1) or '1type' as a synonym of type is deprecated; in a future version of numpy, it will be understood as (type, (1,)) / '(1,)type'.\n",
      "  _np_qint32 = np.dtype([(\"qint32\", np.int32, 1)])\n",
      "/usr/local/lib/python3.6/dist-packages/tensorflow/python/framework/dtypes.py:532: FutureWarning: Passing (type, 1) or '1type' as a synonym of type is deprecated; in a future version of numpy, it will be understood as (type, (1,)) / '(1,)type'.\n",
      "  np_resource = np.dtype([(\"resource\", np.ubyte, 1)])\n"
     ]
    }
   ],
   "source": [
    "from __future__ import print_function\n",
    "\n",
    "import os\n",
    "from copy import deepcopy\n",
    "\n",
    "import keras\n",
    "import numpy as np\n",
    "import tensorflow as tf\n",
    "from keras import backend as K\n",
    "from keras.datasets import cifar10\n",
    "from keras.layers import AveragePooling2D, Input, Flatten\n",
    "from keras.layers import Dense, Conv2D, BatchNormalization, Activation\n",
    "from keras.models import Model\n",
    "from keras.optimizers import Adam\n",
    "from keras.preprocessing.image import ImageDataGenerator\n",
    "from keras.regularizers import l2"
   ]
  },
  {
   "cell_type": "code",
   "execution_count": 2,
   "metadata": {},
   "outputs": [],
   "source": [
    "'''\n",
    "***** Set parameters *****\n",
    "'''\n",
    "seed = 99\n",
    "noise_level = 0\n",
    "clean_data_size = 200\n",
    "learning_rate = 0.001\n",
    "\n",
    "n = 2\n",
    "depth = n * 9 + 2\n",
    "\n",
    "os.environ[\"CUDA_VISIBLE_DEVICES\"] = \"6\"\n",
    "config = tf.ConfigProto()\n",
    "config.gpu_options.allow_growth = True\n",
    "sess = tf.Session(config=config)\n",
    "K.set_session(sess)\n",
    "\n",
    "np.set_printoptions(threshold=np.inf)\n",
    "\n",
    "np.random.seed(seed)\n",
    "tf.set_random_seed(seed)\n",
    "\n",
    "'''\n",
    "***** Load data *****\n",
    "'''\n",
    "# Load the CIFAR10 data.\n",
    "(x_train_, y_train_), (x_test, y_test) = cifar10.load_data()\n",
    "\n",
    "# Convert class vectors to binary class matrices.\n",
    "num_classes = 10\n",
    "y_train_ = keras.utils.to_categorical(y_train_, num_classes)\n",
    "y_test = keras.utils.to_categorical(y_test, num_classes)\n",
    "\n",
    "# Input image dimensions.\n",
    "input_shape = x_train_.shape[1:]\n",
    "\n",
    "# Normalize data.\n",
    "x_train_ = x_train_.astype('float32') / 255\n",
    "x_test = x_test.astype('float32') / 255\n",
    "\n",
    "# Subtract pixel mean is enabled\n",
    "x_train_mean = np.mean(x_train_, axis=0)\n",
    "x_train_ -= x_train_mean\n",
    "x_test -= x_train_mean\n",
    "\n",
    "# Seperate validation set\n",
    "x_validation = x_train_[0:10000, ]\n",
    "y_validation = y_train_[0:10000, ]\n",
    "x_train = x_train_[10000:50000, ]\n",
    "y_train = y_train_[10000:50000, ]\n",
    "\n",
    "# Generate clean dataset\n",
    "clean_index = []\n",
    "for i in range(10):\n",
    "    positive_index = list(np.where(y_train[:, i] == 1)[0])\n",
    "    clean_index = np.append(clean_index, np.random.choice(positive_index, clean_data_size, replace=False)).astype(\n",
    "        int)\n",
    "\n",
    "x_clean = x_train[clean_index]\n",
    "y_clean = y_train[clean_index]\n",
    "x_train = np.delete(x_train, clean_index, axis=0)\n",
    "y_train = np.delete(y_train, clean_index, axis=0)\n",
    "y_train_orig = deepcopy(y_train)\n",
    "\n",
    "# Add additional data\n",
    "add_number = []\n",
    "file = open('additional_data_index1.txt')\n",
    "lines = file.readlines()\n",
    "precision = '['\n",
    "for line in lines:\n",
    "    precision += line.replace('\\n', '').replace(' ', ',')\n",
    "precision += ']'\n",
    "precision = eval(\n",
    "    precision.replace('][', '], [').replace(',,,,', ',').replace(',,,', ',').replace(',,', ',').replace('[,', '['))\n",
    "\n",
    "for label in range(10):\n",
    "    add_number.append(len(precision[label]))\n",
    "bootstrap_size = min(add_number)"
   ]
  },
  {
   "cell_type": "code",
   "execution_count": 3,
   "metadata": {},
   "outputs": [
    {
     "name": "stdout",
     "output_type": "stream",
     "text": [
      "Learning rate:  0.001\n"
     ]
    }
   ],
   "source": [
    "def lr_schedule(epoch):\n",
    "    \"\"\"Learning Rate Schedule\n",
    "\n",
    "    Learning rate is scheduled to be reduced after 80, 120, 160, 180 epochs.\n",
    "    Called automatically every epoch as part of callbacks during training.\n",
    "\n",
    "    # Arguments\n",
    "        epoch (int): The number of epochs\n",
    "\n",
    "    # Returns\n",
    "        lr (float32): learning rate\n",
    "    \"\"\"\n",
    "    lr = learning_rate\n",
    "    if epoch > 40:\n",
    "        lr *= 0.5e-3\n",
    "    elif epoch > 30:\n",
    "        lr *= 1e-3\n",
    "    elif epoch > 20:\n",
    "        lr *= 1e-2\n",
    "    elif epoch > 10:\n",
    "        lr *= 1e-1\n",
    "    print('Learning rate: ', lr)\n",
    "    return lr\n",
    "\n",
    "\n",
    "def resnet_layer(inputs,\n",
    "                 num_filters=16,\n",
    "                 kernel_size=3,\n",
    "                 strides=1,\n",
    "                 activation='relu',\n",
    "                 batch_normalization=True,\n",
    "                 conv_first=True):\n",
    "    \"\"\"2D Convolution-Batch Normalization-Activation stack builder\n",
    "\n",
    "    # Arguments\n",
    "        inputs (tensor): input tensor from input image or previous layer\n",
    "        num_filters (int): Conv2D number of filters\n",
    "        kernel_size (int): Conv2D square kernel dimensions\n",
    "        strides (int): Conv2D square stride dimensions\n",
    "        activation (string): activation name\n",
    "        batch_normalization (bool): whether to include batch normalization\n",
    "        conv_first (bool): conv-bn-activation (True) or\n",
    "            bn-activation-conv (False)\n",
    "\n",
    "    # Returns\n",
    "        x (tensor): tensor as input to the next layer\n",
    "    \"\"\"\n",
    "    conv = Conv2D(num_filters,\n",
    "                  kernel_size=kernel_size,\n",
    "                  strides=strides,\n",
    "                  padding='same',\n",
    "                  kernel_initializer='he_normal',\n",
    "                  kernel_regularizer=l2(1e-4))\n",
    "\n",
    "    x = inputs\n",
    "    if conv_first:\n",
    "        x = conv(x)\n",
    "        if batch_normalization:\n",
    "            x = BatchNormalization()(x)\n",
    "        if activation is not None:\n",
    "            x = Activation(activation)(x)\n",
    "    else:\n",
    "        if batch_normalization:\n",
    "            x = BatchNormalization()(x)\n",
    "        if activation is not None:\n",
    "            x = Activation(activation)(x)\n",
    "        x = conv(x)\n",
    "    return x\n",
    "\n",
    "\n",
    "def resnet_v2(input_shape, depth, lr=lr_schedule(0), num_classes=10):\n",
    "    \"\"\"ResNet Version 2 Model builder [b]\n",
    "\n",
    "    Stacks of (1 x 1)-(3 x 3)-(1 x 1) BN-ReLU-Conv2D or also known as\n",
    "    bottleneck layer\n",
    "    First shortcut connection per layer is 1 x 1 Conv2D.\n",
    "    Second and onwards shortcut connection is identity.\n",
    "    At the beginning of each stage, the feature map size is halved (downsampled)\n",
    "    by a convolutional layer with strides=2, while the number of filter maps is\n",
    "    doubled. Within each stage, the layers have the same number filters and the\n",
    "    same filter map sizes.\n",
    "    Features maps sizes:\n",
    "    conv1  : 32x32,  16\n",
    "    stage 0: 32x32,  64\n",
    "    stage 1: 16x16, 128\n",
    "    stage 2:  8x8,  256\n",
    "\n",
    "    # Arguments\n",
    "        input_shape (tensor): shape of input image tensor\n",
    "        depth (int): number of core convolutional layers\n",
    "        num_classes (int): number of classes (CIFAR10 has 10)\n",
    "\n",
    "    # Returns\n",
    "        model (Model): Keras model instance\n",
    "    \"\"\"\n",
    "    if (depth - 2) % 9 != 0:\n",
    "        raise ValueError('depth should be 9n+2 (eg 56 or 110 in [b])')\n",
    "    # Start model definition.\n",
    "    num_filters_in = 16\n",
    "    num_res_blocks = int((depth - 2) / 9)\n",
    "\n",
    "    inputs = Input(shape=input_shape)\n",
    "    # v2 performs Conv2D with BN-ReLU on input before splitting into 2 paths\n",
    "    x = resnet_layer(inputs=inputs,\n",
    "                     num_filters=num_filters_in,\n",
    "                     conv_first=True)\n",
    "\n",
    "    # Instantiate the stack of residual units\n",
    "    for stage in range(3):\n",
    "        for res_block in range(num_res_blocks):\n",
    "            activation = 'relu'\n",
    "            batch_normalization = True\n",
    "            strides = 1\n",
    "            if stage == 0:\n",
    "                num_filters_out = num_filters_in * 4\n",
    "                if res_block == 0:  # first layer and first stage\n",
    "                    activation = None\n",
    "                    batch_normalization = False\n",
    "            else:\n",
    "                num_filters_out = num_filters_in * 2\n",
    "                if res_block == 0:  # first layer but not first stage\n",
    "                    strides = 2  # downsample\n",
    "\n",
    "            # bottleneck residual unit\n",
    "            y = resnet_layer(inputs=x,\n",
    "                             num_filters=num_filters_in,\n",
    "                             kernel_size=1,\n",
    "                             strides=strides,\n",
    "                             activation=activation,\n",
    "                             batch_normalization=batch_normalization,\n",
    "                             conv_first=False)\n",
    "            y = resnet_layer(inputs=y,\n",
    "                             num_filters=num_filters_in,\n",
    "                             conv_first=False)\n",
    "            y = resnet_layer(inputs=y,\n",
    "                             num_filters=num_filters_out,\n",
    "                             kernel_size=1,\n",
    "                             conv_first=False)\n",
    "            if res_block == 0:\n",
    "                # linear projection residual shortcut connection to match\n",
    "                # changed dims\n",
    "                x = resnet_layer(inputs=x,\n",
    "                                 num_filters=num_filters_out,\n",
    "                                 kernel_size=1,\n",
    "                                 strides=strides,\n",
    "                                 activation=None,\n",
    "                                 batch_normalization=False)\n",
    "            x = keras.layers.add([x, y])\n",
    "\n",
    "        num_filters_in = num_filters_out\n",
    "\n",
    "    # Add classifier on top.\n",
    "    # v2 has BN-ReLU before Pooling\n",
    "    x = BatchNormalization()(x)\n",
    "    x = Activation('relu')(x)\n",
    "    x = AveragePooling2D(pool_size=8)(x)\n",
    "    y = Flatten()(x)\n",
    "    outputs = Dense(num_classes,\n",
    "                    activation='softmax',\n",
    "                    kernel_initializer='he_normal')(y)\n",
    "\n",
    "    # Instantiate model.\n",
    "    model = Model(inputs=inputs, outputs=outputs)\n",
    "    model.compile(loss='categorical_crossentropy',\n",
    "                  optimizer=Adam(lr=lr),\n",
    "                  metrics=['accuracy'])\n",
    "    return model"
   ]
  },
  {
   "cell_type": "code",
   "execution_count": 14,
   "metadata": {},
   "outputs": [
    {
     "name": "stdout",
     "output_type": "stream",
     "text": [
      "cifar10_hard_noise_0.5_threshold_0.8__file0.h5\n",
      "10000/10000 [==============================] - 4s 442us/step\n",
      "[1.5784954147338868, 0.6435]\n",
      "cifar10_soft_noise_0.5_threshold_0.7__file0.h5\n",
      "10000/10000 [==============================] - 2s 230us/step\n",
      "[1.2469719038009643, 0.6392]\n",
      "cifar10_hard_noise_0.5_threshold_0.6__file0.h5\n",
      "10000/10000 [==============================] - 2s 246us/step\n",
      "[1.876717318725586, 0.6351]\n",
      "cifar10_soft_noise_0.9_threshold_0.8__file0.h5\n",
      "10000/10000 [==============================] - 2s 243us/step\n",
      "[1.3982920476913452, 0.6185]\n",
      "cifar10_soft_noise_0.3_threshold_0.7__file0.h5\n",
      "10000/10000 [==============================] - 2s 241us/step\n",
      "[1.194892548942566, 0.6505]\n",
      "cifar10_soft_noise_0.5_threshold_0.8__file0.h5\n",
      "10000/10000 [==============================] - 3s 251us/step\n",
      "[1.2497607548713685, 0.6485]\n",
      "cifar10_hard_noise_0.9_threshold_0.6__file0.h5\n",
      "10000/10000 [==============================] - 2s 242us/step\n",
      "[1.4826212305068969, 0.6426]\n",
      "cifar10_soft_high_all_noise_0.5_threshold_0.8__file0.h5\n",
      "10000/10000 [==============================] - 3s 271us/step\n",
      "[1.4589876182556152, 0.6342]\n",
      "cifar10_soft_high_all_noise_0.5_threshold_0.6__file0.h5\n",
      "10000/10000 [==============================] - 2s 206us/step\n",
      "[1.5408669462203979, 0.6329]\n",
      "cifar10_soft_noise_0.5_threshold_0.6__file0.h5\n",
      "10000/10000 [==============================] - 2s 205us/step\n",
      "[1.3355902418136596, 0.6315]\n",
      "cifar10_hard_high_noise_0.5_threshold_0.6__file0.h5\n",
      "10000/10000 [==============================] - 2s 210us/step\n",
      "[2.7149087766647337, 0.6295]\n",
      "cifar10_hard_high_all_noise_0.5_threshold_0.8__file0.h5\n",
      "10000/10000 [==============================] - 2s 217us/step\n",
      "[1.3433187742233277, 0.6423]\n",
      "cifar10_mix_noise_0.5_threshold_0.6__file0.h5\n",
      "10000/10000 [==============================] - 2s 215us/step\n",
      "[1.7270565320968627, 0.6305]\n",
      "cifar10_hard_high_all_noise_0.5_threshold_0.6__file0.h5\n",
      "10000/10000 [==============================] - 2s 221us/step\n",
      "[1.431513095664978, 0.6479]\n",
      "cifar10_soft_noise_0.9_threshold_0.6__file0.h5\n",
      "10000/10000 [==============================] - 2s 225us/step\n",
      "[1.3366370962142944, 0.628]\n"
     ]
    }
   ],
   "source": [
    "model = resnet_v2(input_shape, depth)\n",
    "student_dir = 'saved_models/student_model_partial_data/'\n",
    "files = os.listdir(student_dir)\n",
    "for file in files:\n",
    "    model.load_weights(student_dir+file)\n",
    "    print(file)\n",
    "    print(model.evaluate(x_test, y_test))"
   ]
  },
  {
   "cell_type": "code",
   "execution_count": 4,
   "metadata": {},
   "outputs": [
    {
     "name": "stdout",
     "output_type": "stream",
     "text": [
      "10000/10000 [==============================] - 3s 298us/step\n",
      "[2.394968570137024, 0.6228]\n"
     ]
    }
   ],
   "source": [
    "\"\"\"\n",
    "# Generate model.\n",
    "\"\"\"\n",
    "model = resnet_v2(input_shape, depth)\n",
    "for index in range(1):\n",
    "    file_path = 'saved_models/teacher_model_bagging1/cifar10_file%d.h5'%index\n",
    "    model.load_weights(file_path)\n",
    "    print(model.evaluate(x_test, y_test))"
   ]
  },
  {
   "cell_type": "code",
   "execution_count": 21,
   "metadata": {},
   "outputs": [
    {
     "data": {
      "image/png": "[encoded data removed]",
      "text/plain": [
       "<Figure size 720x360 with 1 Axes>"
      ]
     },
     "metadata": {
      "needs_background": "light"
     },
     "output_type": "display_data"
    },
    {
     "name": "stdout",
     "output_type": "stream",
     "text": [
      "0.6228\n",
      "0.7601170160897124\n",
      "0.7318492652407973\n",
      "0.6994998076183148\n",
      "0.6743553347527798\n",
      "0.656688390588755\n"
     ]
    }
   ],
   "source": [
    "import matplotlib.pyplot as plt\n",
    "\n",
    "model = resnet_v2(input_shape, depth)\n",
    "file_path = 'saved_models/teacher_model_bagging1/cifar10_file0.h5'\n",
    "model.load_weights(file_path)\n",
    "acc = model.predict(x_test)\n",
    "acc_max = np.max(acc, axis=1)\n",
    "\n",
    "plt.figure(figsize=(10, 5))\n",
    "plt.hist(acc_max, bins=20, rwidth=0.8)\n",
    "plt.title('Histogram of max($s_i$)', fontsize=20)\n",
    "plt.xticks(fontsize=14)\n",
    "plt.yticks(fontsize=14)\n",
    "plt.show()\n",
    "\n",
    "print(np.mean(np.argmax(acc, axis=1)==np.argmax(y_test, axis=1)))\n",
    "data_index = np.where(acc>0.95)\n",
    "print(np.mean(np.argmax(acc[data_index[0]], axis=1)==np.argmax(y_test[data_index[0]], axis=1)))\n",
    "data_index = np.where(acc>0.9)\n",
    "print(np.mean(np.argmax(acc[data_index[0]], axis=1)==np.argmax(y_test[data_index[0]], axis=1)))\n",
    "data_index = np.where(acc>0.8)\n",
    "print(np.mean(np.argmax(acc[data_index[0]], axis=1)==np.argmax(y_test[data_index[0]], axis=1)))\n",
    "data_index = np.where(acc>0.7)\n",
    "print(np.mean(np.argmax(acc[data_index[0]], axis=1)==np.argmax(y_test[data_index[0]], axis=1)))\n",
    "data_index = np.where(acc>0.6)\n",
    "print(np.mean(np.argmax(acc[data_index[0]], axis=1)==np.argmax(y_test[data_index[0]], axis=1)))"
   ]
  },
  {
   "cell_type": "code",
   "execution_count": 23,
   "metadata": {},
   "outputs": [
    {
     "name": "stdout",
     "output_type": "stream",
     "text": [
      "(10000,) (10000, 10)\n"
     ]
    },
    {
     "data": {
      "image/png": "[encoded data removed]",
      "text/plain": [
       "<Figure size 720x360 with 1 Axes>"
      ]
     },
     "metadata": {
      "needs_background": "light"
     },
     "output_type": "display_data"
    },
    {
     "name": "stdout",
     "output_type": "stream",
     "text": [
      "0.66\n",
      "0.8871297242083759\n",
      "3916\n",
      "0.8655665566556656\n",
      "4545\n",
      "0.829160007103534\n",
      "5631\n",
      "0.7870328680774425\n",
      "6663\n",
      "0.7512392381946256\n",
      "7666\n"
     ]
    }
   ],
   "source": [
    "import matplotlib.pyplot as plt\n",
    "\n",
    "n = 5\n",
    "acc = np.zeros([n, 10000, 10])\n",
    "model = resnet_v2(input_shape, depth)\n",
    "for index in range(n):\n",
    "    file_path = 'saved_models/teacher_model_bagging1/cifar10_file%d.h5'%index\n",
    "    model.load_weights(file_path)\n",
    "    acc[index] = model.predict(x_test)\n",
    "acc_mean = np.mean(acc, axis=0)\n",
    "acc_max = np.max(acc_mean, axis=1)\n",
    "print(acc_max.shape, acc_mean.shape)\n",
    "\n",
    "plt.figure(figsize=(10, 5))\n",
    "plt.hist(acc_max, bins=20, rwidth=0.8)\n",
    "plt.title('Histogram of max($s_i$)', fontsize=20)\n",
    "plt.xticks(fontsize=14)\n",
    "plt.yticks(fontsize=14)\n",
    "plt.show()\n",
    "\n",
    "print(np.mean(np.argmax(acc_mean, axis=1)==np.argmax(y_test, axis=1)))\n",
    "data_index = np.where(acc_max>0.95)\n",
    "print(np.mean(np.argmax(acc_mean[data_index[0]], axis=1)==np.argmax(y_test[data_index[0]], axis=1)))\n",
    "print(len(data_index[0]))\n",
    "data_index = np.where(acc_max>0.9)\n",
    "print(np.mean(np.argmax(acc_mean[data_index[0]], axis=1)==np.argmax(y_test[data_index[0]], axis=1)))\n",
    "print(len(data_index[0]))\n",
    "data_index = np.where(acc_max>0.8)\n",
    "print(np.mean(np.argmax(acc_mean[data_index[0]], axis=1)==np.argmax(y_test[data_index[0]], axis=1)))\n",
    "print(len(data_index[0]))\n",
    "data_index = np.where(acc_max>0.7)\n",
    "print(np.mean(np.argmax(acc_mean[data_index[0]], axis=1)==np.argmax(y_test[data_index[0]], axis=1)))\n",
    "print(len(data_index[0]))\n",
    "data_index = np.where(acc_max>0.6)\n",
    "print(np.mean(np.argmax(acc_mean[data_index[0]], axis=1)==np.argmax(y_test[data_index[0]], axis=1)))\n",
    "print(len(data_index[0]))"
   ]
  },
  {
   "cell_type": "code",
   "execution_count": 11,
   "metadata": {},
   "outputs": [
    {
     "name": "stdout",
     "output_type": "stream",
     "text": [
      "(38000,) (38000, 10)\n"
     ]
    },
    {
     "data": {
      "image/png": "[encoded data removed]",
      "text/plain": [
       "<Figure size 720x360 with 1 Axes>"
      ]
     },
     "metadata": {
      "needs_background": "light"
     },
     "output_type": "display_data"
    },
    {
     "name": "stdout",
     "output_type": "stream",
     "text": [
      "0.6608157894736842\n",
      "0.9164239953407105\n",
      "13736\n",
      "0.8803824978267168\n",
      "17255\n",
      "0.8290107872389259\n",
      "21785\n",
      "0.7899446603084893\n",
      "25479\n",
      "0.7520342021790097\n",
      "29004\n"
     ]
    }
   ],
   "source": [
    "import matplotlib.pyplot as plt\n",
    "\n",
    "n = 20\n",
    "acc = np.zeros([n, 38000, 10])\n",
    "model = resnet_v2(input_shape, depth)\n",
    "for index in range(n):\n",
    "    file_path = 'saved_models/teacher_model_bagging1/cifar10_file%d.h5'%index\n",
    "    model.load_weights(file_path)\n",
    "    acc[index] = model.predict(x_train)\n",
    "acc_mean = np.mean(acc, axis=0)\n",
    "acc_max = np.max(acc_mean, axis=1)\n",
    "print(acc_max.shape, acc_mean.shape)\n",
    "\n",
    "plt.figure(figsize=(10, 5))\n",
    "plt.hist(acc_max, bins=20, rwidth=0.8)\n",
    "plt.title('Histogram of max($s_i$)', fontsize=20)\n",
    "plt.xticks(fontsize=14)\n",
    "plt.yticks(fontsize=14)\n",
    "plt.show()\n",
    "\n",
    "print(np.mean(np.argmax(acc_mean, axis=1)==np.argmax(y_train, axis=1)))\n",
    "data_index = np.where(acc_max>0.95)\n",
    "print(np.mean(np.argmax(acc_mean[data_index[0]], axis=1)==np.argmax(y_train[data_index[0]], axis=1)))\n",
    "print(len(data_index[0]))\n",
    "data_index = np.where(acc_max>0.9)\n",
    "print(np.mean(np.argmax(acc_mean[data_index[0]], axis=1)==np.argmax(y_train[data_index[0]], axis=1)))\n",
    "print(len(data_index[0]))\n",
    "data_index = np.where(acc_max>0.8)\n",
    "print(np.mean(np.argmax(acc_mean[data_index[0]], axis=1)==np.argmax(y_train[data_index[0]], axis=1)))\n",
    "print(len(data_index[0]))\n",
    "data_index = np.where(acc_max>0.7)\n",
    "print(np.mean(np.argmax(acc_mean[data_index[0]], axis=1)==np.argmax(y_train[data_index[0]], axis=1)))\n",
    "print(len(data_index[0]))\n",
    "data_index = np.where(acc_max>0.6)\n",
    "print(np.mean(np.argmax(acc_mean[data_index[0]], axis=1)==np.argmax(y_train[data_index[0]], axis=1)))\n",
    "print(len(data_index[0]))"
   ]
  },
  {
   "cell_type": "code",
   "execution_count": 10,
   "metadata": {},
   "outputs": [
    {
     "name": "stdout",
     "output_type": "stream",
     "text": [
      "(38000,) (38000, 10)\n"
     ]
    },
    {
     "data": {
      "image/png": "[encoded data removed]",
      "text/plain": [
       "<Figure size 720x360 with 1 Axes>"
      ]
     },
     "metadata": {
      "needs_background": "light"
     },
     "output_type": "display_data"
    },
    {
     "name": "stdout",
     "output_type": "stream",
     "text": [
      "0.6610263157894737\n",
      "0.8839438765792648\n",
      "15751\n",
      "0.8622075419763281\n",
      "18165\n",
      "0.8216787958233512\n",
      "22123\n",
      "0.78354493883379\n",
      "25913\n",
      "0.7469617760879896\n",
      "29458\n"
     ]
    }
   ],
   "source": [
    "import matplotlib.pyplot as plt\n",
    "\n",
    "n = 5\n",
    "acc = np.zeros([n, 38000, 10])\n",
    "model = resnet_v2(input_shape, depth)\n",
    "for index in range(n):\n",
    "    file_path = 'saved_models/teacher_model_bagging1/cifar10_file%d.h5'%index\n",
    "    model.load_weights(file_path)\n",
    "    acc[index] = model.predict(x_train)\n",
    "acc_mean = np.mean(acc, axis=0)\n",
    "acc_max = np.max(acc_mean, axis=1)\n",
    "print(acc_max.shape, acc_mean.shape)\n",
    "\n",
    "plt.figure(figsize=(10, 5))\n",
    "plt.hist(acc_max, bins=20, rwidth=0.8)\n",
    "plt.title('Histogram of max($s_i$)', fontsize=20)\n",
    "plt.xticks(fontsize=14)\n",
    "plt.yticks(fontsize=14)\n",
    "plt.show()\n",
    "\n",
    "print(np.mean(np.argmax(acc_mean, axis=1)==np.argmax(y_train, axis=1)))\n",
    "data_index = np.where(acc_max>0.95)\n",
    "print(np.mean(np.argmax(acc_mean[data_index[0]], axis=1)==np.argmax(y_train[data_index[0]], axis=1)))\n",
    "print(len(data_index[0]))\n",
    "data_index = np.where(acc_max>0.9)\n",
    "print(np.mean(np.argmax(acc_mean[data_index[0]], axis=1)==np.argmax(y_train[data_index[0]], axis=1)))\n",
    "print(len(data_index[0]))\n",
    "data_index = np.where(acc_max>0.8)\n",
    "print(np.mean(np.argmax(acc_mean[data_index[0]], axis=1)==np.argmax(y_train[data_index[0]], axis=1)))\n",
    "print(len(data_index[0]))\n",
    "data_index = np.where(acc_max>0.7)\n",
    "print(np.mean(np.argmax(acc_mean[data_index[0]], axis=1)==np.argmax(y_train[data_index[0]], axis=1)))\n",
    "print(len(data_index[0]))\n",
    "data_index = np.where(acc_max>0.6)\n",
    "print(np.mean(np.argmax(acc_mean[data_index[0]], axis=1)==np.argmax(y_train[data_index[0]], axis=1)))\n",
    "print(len(data_index[0]))"
   ]
  },
  {
   "cell_type": "code",
   "execution_count": 8,
   "metadata": {},
   "outputs": [
    {
     "name": "stdout",
     "output_type": "stream",
     "text": [
      "(10000,) (10000, 10)\n"
     ]
    },
    {
     "data": {
      "image/png": "[encoded data removed]",
      "text/plain": [
       "<Figure size 720x360 with 1 Axes>"
      ]
     },
     "metadata": {
      "needs_background": "light"
     },
     "output_type": "display_data"
    },
    {
     "name": "stdout",
     "output_type": "stream",
     "text": [
      "0.6541\n",
      "0.8762222752206058\n",
      "0.9124042879019908\n"
     ]
    }
   ],
   "source": [
    "import matplotlib.pyplot as plt\n",
    "\n",
    "acc = np.zeros([20, 10000, 10])\n",
    "for index in range(20):\n",
    "    file_path = 'saved_models/teacher_model_bagging2/cifar10_file%d.h5'%index\n",
    "    model.load_weights(file_path)\n",
    "    acc[index] = model.predict(x_test)\n",
    "acc_mean = np.mean(acc, axis=0)\n",
    "acc_max = np.max(acc_mean, axis=1)\n",
    "print(acc_max.shape, acc_mean.shape)\n",
    "\n",
    "plt.figure(figsize=(10, 5))\n",
    "plt.hist(acc_max, bins=20, rwidth=0.8)\n",
    "plt.title('Histogram of max($s_i$)', fontsize=20)\n",
    "plt.xticks(fontsize=14)\n",
    "plt.yticks(fontsize=14)\n",
    "plt.show()\n",
    "\n",
    "print(np.mean(np.argmax(acc_mean, axis=1)==np.argmax(y_test, axis=1)))\n",
    "data_index = np.where(acc_max>0.9)\n",
    "print(np.mean(np.argmax(acc_mean[data_index[0]], axis=1)==np.argmax(y_test[data_index[0]], axis=1)))\n",
    "data_index = np.where(acc_max>0.95)\n",
    "print(np.mean(np.argmax(acc_mean[data_index[0]], axis=1)==np.argmax(y_test[data_index[0]], axis=1)))"
   ]
  },
  {
   "cell_type": "code",
   "execution_count": 14,
   "metadata": {},
   "outputs": [
    {
     "name": "stdout",
     "output_type": "stream",
     "text": [
      "[11 12 13 14 15 16 17 18 19]\n",
      "[11 12 13 14]\n"
     ]
    }
   ],
   "source": [
    "a = np.arange(20)\n",
    "print(np.where(a>10)[0])\n",
    "print(np.where((a>10) & (a<15))[0])"
   ]
  },
  {
   "cell_type": "code",
   "execution_count": null,
   "metadata": {},
   "outputs": [],
   "source": []
  },
  {
   "cell_type": "code",
   "execution_count": 1,
   "metadata": {},
   "outputs": [
    {
     "ename": "NameError",
     "evalue": "name 'resnet_v2' is not defined",
     "output_type": "error",
     "traceback": [
      "\u001b[0;31m---------------------------------------------------------------------------\u001b[0m",
      "\u001b[0;31mNameError\u001b[0m                                 Traceback (most recent call last)",
      "\u001b[0;32m<ipython-input-1-5404f5c0d868>\u001b[0m in \u001b[0;36m<module>\u001b[0;34m\u001b[0m\n\u001b[0;32m----> 1\u001b[0;31m \u001b[0mmodel\u001b[0m \u001b[0;34m=\u001b[0m \u001b[0mresnet_v2\u001b[0m\u001b[0;34m(\u001b[0m\u001b[0minput_shape\u001b[0m\u001b[0;34m,\u001b[0m \u001b[0mdepth\u001b[0m\u001b[0;34m)\u001b[0m\u001b[0;34m\u001b[0m\u001b[0;34m\u001b[0m\u001b[0m\n\u001b[0m\u001b[1;32m      2\u001b[0m \u001b[0;32mfor\u001b[0m \u001b[0mindex\u001b[0m \u001b[0;32min\u001b[0m \u001b[0mrange\u001b[0m\u001b[0;34m(\u001b[0m\u001b[0;36m20\u001b[0m\u001b[0;34m)\u001b[0m\u001b[0;34m:\u001b[0m\u001b[0;34m\u001b[0m\u001b[0;34m\u001b[0m\u001b[0m\n\u001b[1;32m      3\u001b[0m     \u001b[0mfile_path\u001b[0m \u001b[0;34m=\u001b[0m \u001b[0;34m'saved_models/teacher_model_bagging2/cifar10_file%d.h5'\u001b[0m\u001b[0;34m%\u001b[0m\u001b[0mindex\u001b[0m\u001b[0;34m\u001b[0m\u001b[0;34m\u001b[0m\u001b[0m\n\u001b[1;32m      4\u001b[0m     \u001b[0mmodel\u001b[0m\u001b[0;34m.\u001b[0m\u001b[0mload_weights\u001b[0m\u001b[0;34m(\u001b[0m\u001b[0mfile_path\u001b[0m\u001b[0;34m)\u001b[0m\u001b[0;34m\u001b[0m\u001b[0;34m\u001b[0m\u001b[0m\n\u001b[1;32m      5\u001b[0m     \u001b[0mprint\u001b[0m\u001b[0;34m(\u001b[0m\u001b[0mmodel\u001b[0m\u001b[0;34m.\u001b[0m\u001b[0mevaluate\u001b[0m\u001b[0;34m(\u001b[0m\u001b[0mx_test\u001b[0m\u001b[0;34m,\u001b[0m \u001b[0my_test\u001b[0m\u001b[0;34m)\u001b[0m\u001b[0;34m)\u001b[0m\u001b[0;34m\u001b[0m\u001b[0;34m\u001b[0m\u001b[0m\n",
      "\u001b[0;31mNameError\u001b[0m: name 'resnet_v2' is not defined"
     ]
    }
   ],
   "source": [
    "model = resnet_v2(input_shape, depth)\n",
    "for index in range(20):\n",
    "    file_path = 'saved_models/teacher_model_bagging2/cifar10_file%d.h5'%index\n",
    "    model.load_weights(file_path)\n",
    "    print(model.evaluate(x_test, y_test))"
   ]
  },
  {
   "cell_type": "code",
   "execution_count": 31,
   "metadata": {},
   "outputs": [
    {
     "name": "stdout",
     "output_type": "stream",
     "text": [
      "(10000,) (10000, 10)\n"
     ]
    },
    {
     "data": {
      "image/png": "[encoded data removed]",
      "text/plain": [
       "<Figure size 720x360 with 1 Axes>"
      ]
     },
     "metadata": {
      "needs_background": "light"
     },
     "output_type": "display_data"
    },
    {
     "name": "stdout",
     "output_type": "stream",
     "text": [
      "0.67\n",
      "0.876\n",
      "0.8978639823226123\n"
     ]
    }
   ],
   "source": [
    "import matplotlib.pyplot as plt\n",
    "\n",
    "acc = np.zeros([9, 10000, 10])\n",
    "for index in range(9):\n",
    "    file_path = 'saved_models/teacher_model_bagging/cifar10_file%d.h5'%index\n",
    "    model.load_weights(file_path)\n",
    "    acc[index] = model.predict(x_test)\n",
    "acc_mean = np.mean(acc, axis=0)\n",
    "acc_max = np.max(acc_mean, axis=1)\n",
    "print(acc_max.shape, acc_mean.shape)\n",
    "\n",
    "plt.figure(figsize=(10, 5))\n",
    "plt.hist(acc_max, bins=20, rwidth=0.8)\n",
    "plt.title('Histogram of max($s_i$)', fontsize=20)\n",
    "plt.xticks(fontsize=14)\n",
    "plt.yticks(fontsize=14)\n",
    "plt.show()\n",
    "\n",
    "print(np.mean(np.argmax(acc_mean, axis=1)==np.argmax(y_test, axis=1)))\n",
    "data_index = np.where(acc_max>0.9)\n",
    "print(np.mean(np.argmax(acc_mean[data_index[0]], axis=1)==np.argmax(y_test[data_index[0]], axis=1)))\n",
    "data_index = np.where(acc_max>0.95)\n",
    "print(np.mean(np.argmax(acc_mean[data_index[0]], axis=1)==np.argmax(y_test[data_index[0]], axis=1)))"
   ]
  },
  {
   "cell_type": "code",
   "execution_count": null,
   "metadata": {},
   "outputs": [],
   "source": []
  }
 ],
 "metadata": {
  "kernelspec": {
   "display_name": "Python 3",
   "language": "python",
   "name": "python3"
  },
  "language_info": {
   "codemirror_mode": {
    "name": "ipython",
    "version": 3
   },
   "file_extension": ".py",
   "mimetype": "text/x-python",
   "name": "python",
   "nbconvert_exporter": "python",
   "pygments_lexer": "ipython3",
   "version": "3.6.7"
  }
 },
 "nbformat": 4,
 "nbformat_minor": 2
}
