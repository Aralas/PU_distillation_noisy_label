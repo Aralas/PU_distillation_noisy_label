{
 "cells": [
  {
   "cell_type": "code",
   "execution_count": 32,
   "metadata": {},
   "outputs": [],
   "source": [
    "import string\n",
    "import numpy as np\n",
    "import matplotlib.pyplot as plt\n",
    "import os"
   ]
  },
  {
   "cell_type": "code",
   "execution_count": 33,
   "metadata": {},
   "outputs": [],
   "source": [
    "def read_accuracy(dirs, filename, epoch):\n",
    "    train_accuracy = np.zeros((5, epoch))\n",
    "    test_accuracy = np.zeros((5, epoch))\n",
    "    \n",
    "    for index in range(4):\n",
    "        f = open(dirs + '/test' + str(index) + '/' + filename)\n",
    "        line = f.readlines()\n",
    "        train_accuracy[index] = [float(x) for x in line[1].replace('[', '').replace(']', '').replace('\\n', '').split(',')]\n",
    "        test_accuracy[index] = [float(x) for x in line[3].replace('[', '').replace(']', '').replace('\\n', '').split(',')]\n",
    "    return np.mean(train_accuracy, axis=0), np.mean(test_accuracy, axis=0)\n"
   ]
  },
  {
   "cell_type": "code",
   "execution_count": 34,
   "metadata": {},
   "outputs": [],
   "source": [
    "def read_setting(dirs):\n",
    "    lambda_mean = np.zeros(5)\n",
    "    precision_add_data = np.zeros((5, 10, 10))  # file_index, iteration, class\n",
    "    number_add_data = np.zeros((5, 10, 10))\n",
    "    \n",
    "    for index in range(4):\n",
    "        precision_file = open(dirs + 'test' + str(index + 1) + '/file_additional_data.txt')\n",
    "        line = precision_file.readlines()       \n",
    "        lambda_mean[index] = float(line[-1].split(':')[1])\n",
    "        for iteration in range(10):\n",
    "            precision_add_data[index, iteration, :] = [float(x) for x in line[iteration*4+1].replace( \\\n",
    "                                                    '[', '').replace(']', '').replace('\\n', '').split(',')]\n",
    "            number_add_data[index, iteration, :] = [float(x) for x in line[iteration*4+3].replace( \\\n",
    "                                                    '[', '').replace(']', '').replace('\\n', '').split(',')]\n",
    "    \n",
    "    np.set_printoptions(precision=3)\n",
    "    np.set_printoptions(suppress=True)\n",
    "    print('Average of lambda: %.3f'%np.mean(lambda_mean))\n",
    "    print('Precision of additional data. (row - iteraion, column - class)')\n",
    "    print(np.mean(precision_add_data, axis=0))\n",
    "    print('Number of additional data. (row - iteraion, column - class)')\n",
    "    print(np.mean(number_add_data, axis=0).astype(int))\n",
    "    "
   ]
  },
  {
   "cell_type": "code",
   "execution_count": 35,
   "metadata": {},
   "outputs": [],
   "source": [
    "def plot_accuracy(noise_level, additional_data_size, learning_rate, iteration, clean_data_size):\n",
    "    benchmark_dirs = 'benchmark_multi_classifier/noise_' + str(noise_level) + '_lr_' + str(learning_rate) \n",
    "    benchmark_train, benchmark_test = read_accuracy(benchmark_dirs, 'file_benchmark.txt', 50)\n",
    "    \n",
    "    student_dirs = 'PU_student/noise_' + str(noise_level) + '_iteration_' + str(iteration) + '_cleansize_' + \\\n",
    "                    str(clean_data_size) + '_add_' + str(additional_data_size) + '_lr_' + str(learning_rate)\n",
    "    teacher_train, teacher_test = read_accuracy(student_dirs, 'file_teacher.txt', 30)\n",
    "    \n",
    "    student_test_matrix = np.zeros((5, 50))\n",
    "    lambda_list = [0.3, 0.5, 0.7]\n",
    "    \n",
    "    data = np.zeros((5, 2))\n",
    "    \n",
    "    for lambda_index in range(3):\n",
    "        lambda_teacher = lambda_list[lambda_index]\n",
    "        student_train, student_test = read_accuracy(student_dirs, 'file_student_lambda_' + str(lambda_teacher) + '.txt', 50)\n",
    "        data[lambda_index, :] = np.max(student_test), student_test[-1]\n",
    "        student_test_matrix[lambda_index, :] = student_test\n",
    "    \n",
    "    data[-2, :] = np.max(benchmark_test), benchmark_test[-1]\n",
    "    data[-1, :] = np.max(teacher_test), teacher_test[-1]\n",
    "\n",
    "    print(data)\n",
    "\n",
    "    plt.figure(1) # 创建图表1\n",
    "    for index in range(3):\n",
    "        plt.plot(np.arange(len(student_test_matrix[index, :]))+1, student_test_matrix[index, :], label='student with $\\lambda$='+str(lambda_list[index]))\n",
    "    plt.plot(np.arange(len(benchmark_test))+1, benchmark_test, label='benchmark')\n",
    "    plt.plot(np.arange(len(teacher_test))+1, teacher_test, label='teacher model')\n",
    "    \n",
    "    plt.legend()\n",
    "    plt.grid()\n",
    "    plt.ylim(0,1)\n",
    "    plt.xlabel('epoch')\n",
    "    plt.ylabel('accuracy')\n",
    "    plt.title('noise: %.1f, learning rate: %.4f'%(noise_level, learning_rate), fontsize=20)\n",
    "\n",
    "    dirs = student_dirs + '/figure/'\n",
    "    if not os.path.exists(dirs):\n",
    "        os.makedirs(dirs)\n",
    "#         plt.savefig(dirs + 'accuracy.png')\n",
    "    plt.show()\n"
   ]
  },
  {
   "cell_type": "code",
   "execution_count": 36,
   "metadata": {},
   "outputs": [],
   "source": [
    "def plot_accuracy2(noise_level, additional_data_size, learning_rate, iteration, clean_data_size):\n",
    "    benchmark_dirs = 'benchmark_multi_classifier/noise_' + str(noise_level) + '_lr_' + str(learning_rate) \n",
    "    benchmark_train, benchmark_test = read_accuracy(benchmark_dirs, 'file_benchmark.txt', 50)\n",
    "    \n",
    "    student_dirs = 'PU_student/noise_' + str(noise_level) + '_iteration_' + str(iteration) + '_cleansize_' + \\\n",
    "                    str(clean_data_size) + '_add_' + str(additional_data_size) + '_lr_' + str(learning_rate)\n",
    "    teacher_train, teacher_test = read_accuracy(student_dirs, 'file_teacher.txt', 30)\n",
    "    for lambda_teacher in [0.3, 0.4, 0.5, 0.6, 0.7]:\n",
    "        student_train, student_test = read_accuracy(student_dirs, 'file_student_lambda_' + str(lambda_teacher) + '.txt', 50)\n",
    "    \n",
    "        data = np.zeros((3, 2))\n",
    "        data[0, :] = np.max(benchmark_test), benchmark_test[-1]\n",
    "        data[1, :] = np.max(teacher_test), teacher_test[-1]\n",
    "        data[2, :] = np.max(student_test), student_test[-1]\n",
    "        \n",
    "        print(data)\n",
    "    \n",
    "        plt.figure(1) # 创建图表1\n",
    "        plt.plot(np.arange(len(benchmark_test))+1, benchmark_test, label='benchmark')\n",
    "        plt.plot(np.arange(len(teacher_test))+1, teacher_test, label='teacher model')\n",
    "        plt.plot(np.arange(len(student_test))+1, student_test, label='student model')\n",
    "        plt.legend()\n",
    "        plt.grid()\n",
    "        plt.ylim(0,1)\n",
    "        plt.xlabel('epoch')\n",
    "        plt.ylabel('accuracy')\n",
    "        plt.title('noise: %.1f, lambda: %.1f'%(noise_level, lambda_teacher), fontsize=20)\n",
    "\n",
    "        dirs = student_dirs + '/figure/'\n",
    "        if not os.path.exists(dirs):\n",
    "            os.makedirs(dirs)\n",
    "#         plt.savefig(dirs + 'accuracy.png')\n",
    "        plt.show()\n",
    "        "
   ]
  },
  {
   "cell_type": "code",
   "execution_count": 38,
   "metadata": {},
   "outputs": [
    {
     "name": "stdout",
     "output_type": "stream",
     "text": [
      "[[0.2344  0.1759 ]\n",
      " [0.25352 0.1745 ]\n",
      " [0.28246 0.16594]\n",
      " [0.2896  0.14596]\n",
      " [0.25314 0.14476]]\n"
     ]
    },
    {
     "data": {
      "image/png": "[encoded data removed]",
      "text/plain": [
       "<Figure size 432x288 with 1 Axes>"
      ]
     },
     "metadata": {
      "needs_background": "light"
     },
     "output_type": "display_data"
    }
   ],
   "source": [
    "noise_level = 0.8\n",
    "additional_data_size = 1500\n",
    "learning_rate = 0.0003\n",
    "iteration = 10\n",
    "clean_data_size = 50\n",
    "\n",
    "# create record files\n",
    "plot_accuracy(noise_level, additional_data_size, learning_rate, iteration, clean_data_size)"
   ]
  },
  {
   "cell_type": "code",
   "execution_count": null,
   "metadata": {},
   "outputs": [],
   "source": []
  }
 ],
 "metadata": {
  "kernelspec": {
   "display_name": "Python 3",
   "language": "python",
   "name": "python3"
  },
  "language_info": {
   "codemirror_mode": {
    "name": "ipython",
    "version": 3
   },
   "file_extension": ".py",
   "mimetype": "text/x-python",
   "name": "python",
   "nbconvert_exporter": "python",
   "pygments_lexer": "ipython3",
   "version": "3.6.7"
  }
 },
 "nbformat": 4,
 "nbformat_minor": 2
}
