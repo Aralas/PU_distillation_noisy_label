{
 "cells": [
  {
   "cell_type": "code",
   "execution_count": 139,
   "metadata": {},
   "outputs": [],
   "source": [
    "import string\n",
    "import numpy as np\n",
    "import matplotlib.pyplot as plt\n",
    "import os"
   ]
  },
  {
   "cell_type": "code",
   "execution_count": 140,
   "metadata": {},
   "outputs": [],
   "source": [
    "def read_accuracy(dirs):\n",
    "    student_accuracy = np.zeros((5, 100))\n",
    "    benchmark_accuracy_train = np.zeros((2, 100))\n",
    "    benchmark_accuracy_test = np.zeros((2, 100))\n",
    "    teacher_accuracy = np.zeros((5, 100))\n",
    "\n",
    "    for index in range(5):\n",
    "        student_file = open(dirs + 'test' + str(index + 1) + '/file_student.txt')\n",
    "        benchmark_file = open(dirs + 'test' + str(index + 1) + '/file_benchmark.txt')\n",
    "        teacher_file = open(dirs + 'test' + str(index + 1) + '/file_teacher.txt')\n",
    "        line = student_file.readlines()\n",
    "        student_accuracy[index] = [float(x) for x in line[3].replace('[', '').replace(']', '').replace('\\n', '').split(',')]\n",
    "\n",
    "        line = benchmark_file.readlines()\n",
    "        if index < 2:\n",
    "            benchmark_accuracy_train[index] = [float(x) for x in line[1].replace('[', '').replace(']', '').replace('\\n', '').split(',')]\n",
    "            benchmark_accuracy_test[index] = [float(x) for x in line[3].replace('[', '').replace(']', '').replace('\\n', '').split(',')]\n",
    "\n",
    "        line = teacher_file.readlines()\n",
    "        teacher_accuracy[index] = [float(x) for x in line[3].replace('[', '').replace(']', '').replace('\\n', '').split(',')]\n",
    "\n",
    "    return np.mean(teacher_accuracy, axis=0), np.mean(student_accuracy, axis=0), np.mean(benchmark_accuracy_train, axis=0), np.mean(benchmark_accuracy_test, axis=0)\n"
   ]
  },
  {
   "cell_type": "code",
   "execution_count": 141,
   "metadata": {},
   "outputs": [],
   "source": [
    "def read_setting(dirs):\n",
    "    lambda_mean = np.zeros(5)\n",
    "    precision_add_data = np.zeros((5, 10, 10))  # file_index, iteration, class\n",
    "    number_add_data = np.zeros((5, 10, 10))\n",
    "    \n",
    "    for index in range(5):\n",
    "        precision_file = open(dirs + 'test' + str(index + 1) + '/file_additional_data.txt')\n",
    "        line = precision_file.readlines()       \n",
    "        lambda_mean[index] = float(line[-1].split(':')[1])\n",
    "        for iteration in range(10):\n",
    "            precision_add_data[index, iteration, :] = [float(x) for x in line[iteration*4+1].replace( \\\n",
    "                                                    '[', '').replace(']', '').replace('\\n', '').split(',')]\n",
    "            number_add_data[index, iteration, :] = [float(x) for x in line[iteration*4+3].replace( \\\n",
    "                                                    '[', '').replace(']', '').replace('\\n', '').split(',')]\n",
    "    \n",
    "    np.set_printoptions(precision=3)\n",
    "    np.set_printoptions(suppress=True)\n",
    "    print('Average of lambda: %.3f'%np.mean(lambda_mean))\n",
    "    print('Precision of additional data. (row - iteraion, column - class)')\n",
    "    print(np.mean(precision_add_data, axis=0))\n",
    "    print('Number of additional data. (row - iteraion, column - class)')\n",
    "    print(np.mean(number_add_data, axis=0).astype(int))\n",
    "    "
   ]
  },
  {
   "cell_type": "code",
   "execution_count": 142,
   "metadata": {},
   "outputs": [],
   "source": [
    "def plot_accuracy(noise_level, additional_data_size, learning_rate):\n",
    "    dirs = 'noise_' + str(noise_level) + '_iteration_10_cleansize_50_add_' \\\n",
    "    + str(additional_data_size) + '_lr_' + str(learning_rate) + '/'\n",
    "    t, s, b_train, b_test = read_accuracy(dirs)\n",
    "    read_setting(dirs)    \n",
    "    \n",
    "    data = np.zeros((4, 2))\n",
    "    data[0, :] = np.max(t), t[-1]\n",
    "    data[1, :] = np.max(s), s[-1]\n",
    "    data[2, :] = np.max(b_train), b_train[-1]\n",
    "    data[3, :] = np.max(b_test), b_test[-1]\n",
    "    \n",
    "    print(data)\n",
    "    \n",
    "    plt.figure(1) # 创建图表1\n",
    "    plt.plot(b_train, '--', label='benchmark, training')\n",
    "    plt.plot(b_test, label='benchmark, test')\n",
    "    plt.plot(t, label='teacher, test')\n",
    "    plt.plot(s, label='student, test')\n",
    "    plt.legend()\n",
    "    plt.grid()\n",
    "    plt.ylim(0,1)\n",
    "    plt.xlabel('epoch')\n",
    "    plt.ylabel('accuracy')\n",
    "    plt.title('noise: %.1f, additional data per class: %d, learning rate: %.4f'%(noise_level, additional_data_size, learning_rate))\n",
    "    \n",
    "    dirs = 'figure/' + dirs\n",
    "    if not os.path.exists(dirs):\n",
    "        os.makedirs(dirs)\n",
    "    plt.savefig(dirs + 'accuracy.png')\n",
    "    plt.show()"
   ]
  },
  {
   "cell_type": "code",
   "execution_count": 143,
   "metadata": {},
   "outputs": [
    {
     "name": "stdout",
     "output_type": "stream",
     "text": [
      "Average of lambda: 0.815\n",
      "Precision of additional data. (row - iteraion, column - class)\n",
      "[[0.    0.293 0.    0.    0.    0.    0.2   0.    0.2   0.518]\n",
      " [0.138 0.482 0.    0.396 0.067 0.066 0.    0.585 0.2   0.572]\n",
      " [0.216 0.389 0.621 0.724 0.466 0.202 0.727 0.396 0.284 0.504]\n",
      " [0.19  0.324 0.654 0.678 0.64  0.391 0.518 0.348 0.243 0.472]\n",
      " [0.265 0.345 0.624 0.648 0.696 0.459 0.441 0.361 0.304 0.472]\n",
      " [0.331 0.355 0.639 0.676 0.654 0.497 0.38  0.395 0.316 0.481]\n",
      " [0.361 0.352 0.662 0.686 0.618 0.517 0.414 0.405 0.331 0.483]\n",
      " [0.395 0.342 0.696 0.706 0.63  0.524 0.459 0.42  0.337 0.487]\n",
      " [0.394 0.343 0.723 0.717 0.659 0.521 0.474 0.412 0.35  0.496]\n",
      " [0.391 0.341 0.732 0.719 0.685 0.519 0.481 0.418 0.363 0.499]]\n",
      "Number of additional data. (row - iteraion, column - class)\n",
      "[[   0    1    0    0    0    0    0    0    0   12]\n",
      " [   8  217    0   10    0   23    0  161    1  329]\n",
      " [ 138  363   39  118   10   46   13  419  281  629]\n",
      " [ 216  785  204  392   60  437   71  781  430  872]\n",
      " [ 647 1190  401  796  118 1023  221 1173  987 1165]\n",
      " [1200 1500  598 1175  357 1228  473 1500 1293 1477]\n",
      " [1378 1500 1076 1338  587 1472 1049 1500 1500 1500]\n",
      " [1495 1500 1375 1473 1028 1500 1462 1500 1500 1500]\n",
      " [1500 1500 1500 1500 1441 1493 1500 1500 1500 1500]\n",
      " [1500 1500 1500 1500 1500 1500 1500 1500 1500 1500]]\n"
     ]
    },
    {
     "ename": "ValueError",
     "evalue": "cannot copy sequence with size 2 to array axis with dimension 4",
     "output_type": "error",
     "traceback": [
      "\u001b[0;31m---------------------------------------------------------------------------\u001b[0m",
      "\u001b[0;31mValueError\u001b[0m                                Traceback (most recent call last)",
      "\u001b[0;32m<ipython-input-143-03a4e36a695d>\u001b[0m in \u001b[0;36m<module>\u001b[0;34m()\u001b[0m\n\u001b[1;32m      5\u001b[0m \u001b[0;34m\u001b[0m\u001b[0m\n\u001b[1;32m      6\u001b[0m \u001b[0;31m# create record files\u001b[0m\u001b[0;34m\u001b[0m\u001b[0;34m\u001b[0m\u001b[0m\n\u001b[0;32m----> 7\u001b[0;31m \u001b[0mplot_accuracy\u001b[0m\u001b[0;34m(\u001b[0m\u001b[0mnoise_level\u001b[0m\u001b[0;34m,\u001b[0m \u001b[0madditional_data_size\u001b[0m\u001b[0;34m,\u001b[0m \u001b[0mlearning_rate\u001b[0m\u001b[0;34m)\u001b[0m\u001b[0;34m\u001b[0m\u001b[0m\n\u001b[0m",
      "\u001b[0;32m<ipython-input-142-758abb9e4bfc>\u001b[0m in \u001b[0;36mplot_accuracy\u001b[0;34m(noise_level, additional_data_size, learning_rate)\u001b[0m\n\u001b[1;32m      5\u001b[0m \u001b[0;34m\u001b[0m\u001b[0m\n\u001b[1;32m      6\u001b[0m     \u001b[0mdata\u001b[0m \u001b[0;34m=\u001b[0m \u001b[0mnp\u001b[0m\u001b[0;34m.\u001b[0m\u001b[0mzeros\u001b[0m\u001b[0;34m(\u001b[0m\u001b[0;34m(\u001b[0m\u001b[0;36m2\u001b[0m\u001b[0;34m,\u001b[0m \u001b[0;36m4\u001b[0m\u001b[0;34m)\u001b[0m\u001b[0;34m)\u001b[0m\u001b[0;34m\u001b[0m\u001b[0m\n\u001b[0;32m----> 7\u001b[0;31m     \u001b[0mdata\u001b[0m\u001b[0;34m[\u001b[0m\u001b[0;36m0\u001b[0m\u001b[0;34m,\u001b[0m \u001b[0;34m:\u001b[0m\u001b[0;34m]\u001b[0m \u001b[0;34m=\u001b[0m \u001b[0mnp\u001b[0m\u001b[0;34m.\u001b[0m\u001b[0mmax\u001b[0m\u001b[0;34m(\u001b[0m\u001b[0mt\u001b[0m\u001b[0;34m)\u001b[0m\u001b[0;34m,\u001b[0m \u001b[0mt\u001b[0m\u001b[0;34m[\u001b[0m\u001b[0;34m-\u001b[0m\u001b[0;36m1\u001b[0m\u001b[0;34m]\u001b[0m\u001b[0;34m\u001b[0m\u001b[0m\n\u001b[0m\u001b[1;32m      8\u001b[0m     \u001b[0mdata\u001b[0m\u001b[0;34m[\u001b[0m\u001b[0;36m1\u001b[0m\u001b[0;34m,\u001b[0m \u001b[0;34m:\u001b[0m\u001b[0;34m]\u001b[0m \u001b[0;34m=\u001b[0m \u001b[0mnp\u001b[0m\u001b[0;34m.\u001b[0m\u001b[0mmax\u001b[0m\u001b[0;34m(\u001b[0m\u001b[0ms\u001b[0m\u001b[0;34m)\u001b[0m\u001b[0;34m,\u001b[0m \u001b[0ms\u001b[0m\u001b[0;34m[\u001b[0m\u001b[0;34m-\u001b[0m\u001b[0;36m1\u001b[0m\u001b[0;34m]\u001b[0m\u001b[0;34m\u001b[0m\u001b[0m\n\u001b[1;32m      9\u001b[0m     \u001b[0mdata\u001b[0m\u001b[0;34m[\u001b[0m\u001b[0;36m2\u001b[0m\u001b[0;34m,\u001b[0m \u001b[0;34m:\u001b[0m\u001b[0;34m]\u001b[0m \u001b[0;34m=\u001b[0m \u001b[0mnp\u001b[0m\u001b[0;34m.\u001b[0m\u001b[0mmax\u001b[0m\u001b[0;34m(\u001b[0m\u001b[0mb_train\u001b[0m\u001b[0;34m)\u001b[0m\u001b[0;34m,\u001b[0m \u001b[0mb_train\u001b[0m\u001b[0;34m[\u001b[0m\u001b[0;34m-\u001b[0m\u001b[0;36m1\u001b[0m\u001b[0;34m]\u001b[0m\u001b[0;34m\u001b[0m\u001b[0m\n",
      "\u001b[0;31mValueError\u001b[0m: cannot copy sequence with size 2 to array axis with dimension 4"
     ]
    }
   ],
   "source": [
    "dirs = 'noise_0.5_iteration_10_cleansize_50_add_1500_lr_0.0003/'\n",
    "noise_level = 0.5\n",
    "additional_data_size = 1500\n",
    "learning_rate = 0.0003\n",
    "\n",
    "# create record files\n",
    "plot_accuracy(noise_level, additional_data_size, learning_rate)"
   ]
  },
  {
   "cell_type": "code",
   "execution_count": null,
   "metadata": {},
   "outputs": [],
   "source": [
    "dirs = 'noise_0.5_iteration_10_cleansize_50_add_1500_lr_0.001/'\n",
    "noise_level = 0.5\n",
    "additional_data_size = 1500\n",
    "learning_rate = 0.001\n",
    "\n",
    "# create record files\n",
    "plot_accuracy(noise_level, additional_data_size, learning_rate)"
   ]
  },
  {
   "cell_type": "code",
   "execution_count": null,
   "metadata": {},
   "outputs": [],
   "source": [
    "dirs = 'noise_0.5_iteration_10_cleansize_50_add_1000_lr_0.0003/'\n",
    "noise_level = 0.5\n",
    "additional_data_size = 1000\n",
    "learning_rate = 0.0003\n",
    "\n",
    "# create record files\n",
    "plot_accuracy(noise_level, additional_data_size, learning_rate)"
   ]
  },
  {
   "cell_type": "code",
   "execution_count": null,
   "metadata": {},
   "outputs": [],
   "source": [
    "dirs = 'noise_0.8_iteration_10_cleansize_50_add_1500_lr_0.0003/'\n",
    "noise_level = 0.8\n",
    "additional_data_size = 1500\n",
    "learning_rate = 0.0003\n",
    "\n",
    "# create record files\n",
    "plot_accuracy(noise_level, additional_data_size, learning_rate)"
   ]
  },
  {
   "cell_type": "code",
   "execution_count": null,
   "metadata": {},
   "outputs": [],
   "source": [
    "dirs = 'noise_0.8_iteration_10_cleansize_50_add_1000_lr_0.0003/'\n",
    "noise_level = 0.8\n",
    "additional_data_size = 1000\n",
    "learning_rate = 0.0003\n",
    "\n",
    "# create record files\n",
    "plot_accuracy(noise_level, additional_data_size, learning_rate)"
   ]
  },
  {
   "cell_type": "code",
   "execution_count": null,
   "metadata": {},
   "outputs": [],
   "source": [
    "dirs = 'noise_0.8_iteration_10_cleansize_50_add_1000_lr_0.001/'\n",
    "noise_level = 0.8\n",
    "additional_data_size = 1000\n",
    "learning_rate = 0.001\n",
    "\n",
    "# create record files\n",
    "plot_accuracy(noise_level, additional_data_size, learning_rate)"
   ]
  },
  {
   "cell_type": "code",
   "execution_count": null,
   "metadata": {},
   "outputs": [],
   "source": []
  }
 ],
 "metadata": {
  "kernelspec": {
   "display_name": "Python 3",
   "language": "python",
   "name": "python3"
  },
  "language_info": {
   "codemirror_mode": {
    "name": "ipython",
    "version": 3
   },
   "file_extension": ".py",
   "mimetype": "text/x-python",
   "name": "python",
   "nbconvert_exporter": "python",
   "pygments_lexer": "ipython3",
   "version": "3.5.2"
  }
 },
 "nbformat": 4,
 "nbformat_minor": 2
}
