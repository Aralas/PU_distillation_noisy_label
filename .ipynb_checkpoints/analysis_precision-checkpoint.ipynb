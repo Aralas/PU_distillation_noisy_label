{
 "cells": [
  {
   "cell_type": "code",
   "execution_count": 52,
   "metadata": {},
   "outputs": [],
   "source": [
    "import string\n",
    "import numpy as np\n",
    "import matplotlib.pyplot as plt\n",
    "import os\n",
    "from prettytable import PrettyTable\n",
    "from IPython.display import Latex"
   ]
  },
  {
   "cell_type": "code",
   "execution_count": 41,
   "metadata": {
    "scrolled": false
   },
   "outputs": [
    {
     "name": "stdout",
     "output_type": "stream",
     "text": [
      "+-------+---------------+----------+----------+----------+\n",
      "| noise | learning rate | ResNet29 | ResNet38 | ResNet56 |\n",
      "+-------+---------------+----------+----------+----------+\n",
      "|   0   |      0.03     |  0.6543  |  0.651   |  0.6647  |\n",
      "|   0   |      0.01     |  0.7513  |  0.7773  |  0.7712  |\n",
      "|   0   |     0.003     |  0.8704  |  0.875   |  0.8755  |\n",
      "|   0   |     0.001     |  0.8603  |  0.8633  |  0.8698  |\n",
      "|   0   |     0.0003    |  0.8025  |          |          |\n",
      "|   0   |     0.0001    |  0.7167  |          |          |\n",
      "|   0   |    0.00003    |  0.6434  |          |          |\n",
      "|   0   |    0.00001    |  0.6289  |  0.6179  |          |\n",
      "|  0.5  |      0.01     |  0.4529  |  0.4806  |  0.4626  |\n",
      "|  0.5  |     0.003     |  0.6142  |  0.6081  |  0.6226  |\n",
      "|  0.5  |     0.001     |  0.5779  |  0.5938  |  0.6084  |\n",
      "|  0.5  |     0.0003    |  0.5272  |          |          |\n",
      "|  0.5  |     0.0001    |  0.4778  |          |          |\n",
      "|  0.5  |    0.00003    |  0.4982  |          |          |\n",
      "|  0.5  |    0.00001    |  0.5032  |  0.4902  |  0.4855  |\n",
      "|  0.5  |    0.000003   |  0.504   |  0.4873  |          |\n",
      "|  0.5  |    0.000001   |  0.4437  |  0.4448  |          |\n",
      "|  0.8  |      0.01     |   0.1    |   0.1    |   0.1    |\n",
      "|  0.8  |     0.001     |  0.2864  |  0.2861  |  0.2949  |\n",
      "|  0.8  |     0.0003    |  0.2708  |          |          |\n",
      "|  0.8  |     0.0001    |  0.2463  |          |          |\n",
      "|  0.8  |    0.00003    |  0.3006  |          |          |\n",
      "|  0.8  |    0.00001    |  0.3182  |  0.3132  |  0.3157  |\n",
      "|  0.8  |    0.000003   |  0.3173  |  0.3112  |          |\n",
      "|  0.8  |    0.000001   |  0.3016  |  0.2892  |          |\n",
      "|  0.9  |     0.0003    |  0.1084  |          |          |\n",
      "|  0.9  |     0.0001    |  0.123   |          |          |\n",
      "|  0.9  |    0.00003    |  0.1102  |          |          |\n",
      "|  0.9  |    0.00001    |  0.1075  |  0.1048  |  0.1068  |\n",
      "|  0.9  |    0.000003   |  0.1043  |  0.1009  |          |\n",
      "|  0.9  |    0.000001   |  0.1001  |  0.0948  |          |\n",
      "+-------+---------------+----------+----------+----------+\n"
     ]
    }
   ],
   "source": [
    "dirs1 = 'ResNet29_pre-activation_benchmark/'\n",
    "dirs2 = 'ResNet38_pre-activation_benchmark/'\n",
    "dirs3 = 'ResNet56_pre-activation_benchmark/'\n",
    "table = PrettyTable(['noise', 'learning rate', 'ResNet29', 'ResNet38', 'ResNet56'])\n",
    "for noise_level in [0, 0.5, 0.8, 0.9]:\n",
    "    for lr in [0.03, 0.01, 0.003, 0.001, 0.0003, 0.0001, '0.00003', '0.00001', '0.000003', '0.000001']:\n",
    "        y1 = ' '\n",
    "        y2 = ' '\n",
    "        y3 = ' '\n",
    "        try:\n",
    "            folder = dirs1 + 'noise_' + str(noise_level) + '_test0_lr_' + str(lr)\n",
    "            file = open(folder + '/file_benchmark.txt')\n",
    "            line = file.readlines()\n",
    "            y1 = [float(x) for x in line[3].replace('[', '').replace(']', '').replace('\\n', '').split(',')]\n",
    "            y1 = np.max(y1)\n",
    "        except:\n",
    "            pass\n",
    "        \n",
    "        try:\n",
    "            folder = dirs2 + 'noise_' + str(noise_level) + '_test0_lr_' + str(lr)\n",
    "            file = open(folder + '/file_benchmark.txt')\n",
    "            line = file.readlines()\n",
    "            y2 = [float(x) for x in line[3].replace('[', '').replace(']', '').replace('\\n', '').split(',')]\n",
    "            y2 = np.max(y2)\n",
    "        except:\n",
    "            pass\n",
    "        \n",
    "        try:\n",
    "            folder = dirs3 + 'noise_' + str(noise_level) + '_test0_lr_' + str(lr)\n",
    "            file = open(folder + '/file_benchmark.txt')\n",
    "            line = file.readlines()\n",
    "            y3 = [float(x) for x in line[3].replace('[', '').replace(']', '').replace('\\n', '').split(',')]\n",
    "            y3 = np.max(y3)\n",
    "        except:\n",
    "            pass\n",
    "        \n",
    "        if y1 == ' ' and y2 == ' ' and y3 == ' ':\n",
    "            pass\n",
    "        else:\n",
    "            table.add_row([noise_level, str(lr), y1, y2, y3])\n",
    "print(table)"
   ]
  },
  {
   "cell_type": "code",
   "execution_count": 42,
   "metadata": {
    "scrolled": true
   },
   "outputs": [
    {
     "name": "stdout",
     "output_type": "stream",
     "text": [
      "+-------+---------------+----------+\n",
      "| noise | learning rate | ResNet20 |\n",
      "+-------+---------------+----------+\n",
      "|   0   |     0.003     |  0.8138  |\n",
      "|   0   |     0.0003    |  0.9049  |\n",
      "|  0.5  |     0.003     |  0.5425  |\n",
      "|  0.5  |     0.0003    |  0.7255  |\n",
      "|  0.8  |     0.0003    |  0.4788  |\n",
      "+-------+---------------+----------+\n"
     ]
    }
   ],
   "source": [
    "dirs4 = 'ResNet20_pre-activation_benchmark_data_augmentation/'\n",
    "\n",
    "table = PrettyTable(['noise', 'learning rate', 'ResNet20'])\n",
    "for noise_level in [0, 0.5, 0.8]:\n",
    "    for lr in [0.003, 0.001, 0.0003]:\n",
    "        y1 = ' '\n",
    "        y2 = ' '\n",
    "        y3 = ' '\n",
    "        try:\n",
    "            folder = dirs4 + 'noise_' + str(noise_level) + '_test0_lr_' + str(lr)\n",
    "            file = open(folder + '/file_benchmark.txt')\n",
    "            line = file.readlines()\n",
    "            y1 = [float(x) for x in line[3].replace('[', '').replace(']', '').replace('\\n', '').split(',')]\n",
    "            y1 = np.max(y1)\n",
    "        except:\n",
    "            pass\n",
    "        \n",
    "        if y1 != ' ':\n",
    "            table.add_row([noise_level, str(lr), y1])\n",
    "print(table)"
   ]
  },
  {
   "cell_type": "code",
   "execution_count": 60,
   "metadata": {},
   "outputs": [
    {
     "data": {
      "text/plain": [
       "<Figure size 432x288 with 0 Axes>"
      ]
     },
     "metadata": {},
     "output_type": "display_data"
    },
    {
     "data": {
      "image/png": "[encoded data removed]",
      "text/plain": [
       "<Figure size 720x432 with 1 Axes>"
      ]
     },
     "metadata": {
      "needs_background": "light"
     },
     "output_type": "display_data"
    }
   ],
   "source": [
    "\n",
    "dirs1 = 'ResNet29_pre-activation_benchmark/'\n",
    "dirs2 = 'ResNet38_pre-activation_benchmark/'\n",
    "dirs3 = 'ResNet56_pre-activation_benchmark/'\n",
    "dirs4 = 'ResNet20_pre-activation_benchmark_data_augmentation/'\n",
    "\n",
    "def get_accuracy(dirs, noise_level, lr):\n",
    "    folder = dirs + 'noise_' + str(noise_level) + '_test0_lr_' + str(lr)\n",
    "    file = open(folder + '/file_benchmark.txt')\n",
    "    line = file.readlines()\n",
    "    y = [float(x) for x in line[3].replace('[', '').replace(']', '').replace('\\n', '').split(',')]\n",
    "    return y\n",
    "        \n",
    "y1 = get_accuracy(dirs3, 0, 0.003)\n",
    "y2 = get_accuracy(dirs3, 0.5, 0.003)\n",
    "y3 = get_accuracy(dirs1, 0.8, '0.00001')\n",
    "y4 = get_accuracy(dirs4, 0, 0.0003)\n",
    "y5 = get_accuracy(dirs4, 0.5, 0.0003)\n",
    "y6 = get_accuracy(dirs4, 0.8, 0.0003)\n",
    "\n",
    "\n",
    "plt.figure(1) # 创建图表1\n",
    "plt.figure(figsize=(10,6))\n",
    "\n",
    "\n",
    "plt.plot(np.arange(len(y1))+1, y1, '--', label='noise=0')\n",
    "plt.plot(np.arange(len(y2))+1, y2, '--', label='noise=0.5')\n",
    "plt.plot(np.arange(len(y3))+1, y3, '--', label='noise=0.8')\n",
    "plt.plot(np.arange(len(y4))+1, y4, label='noise=0, with data augmentation')\n",
    "plt.plot(np.arange(len(y5))+1, y5, label='noise=0.5, with data augmentation')\n",
    "plt.plot(np.arange(len(y6))+1, y6, label='noise=0.8, with data augmentation')\n",
    "plt.legend(loc='right')\n",
    "plt.grid()\n",
    "plt.ylim(0,1)\n",
    "plt.xlabel('epoch')\n",
    "plt.ylabel('accuracy')\n",
    "plt.title('Compare the test accuracy with/without data augmentation')\n",
    "plt.show()"
   ]
  },
  {
   "cell_type": "code",
   "execution_count": 43,
   "metadata": {
    "scrolled": true
   },
   "outputs": [
    {
     "name": "stdout",
     "output_type": "stream",
     "text": [
      "+--------+------------------------------+---------+---------+---------+---------+---------+\n",
      "| lambda | noise=0.8, ResNet29, lr=3e-6 | lr=1e-5 | lr=3e-5 | lr=3e-4 | lr=1e-3 | lr=3e-3 |\n",
      "+--------+------------------------------+---------+---------+---------+---------+---------+\n",
      "|  0.1   |                              |         |         |  0.5921 |         |  0.6458 |\n",
      "|  0.2   |            0.4217            |  0.5109 |  0.5512 |  0.5827 |  0.6324 |  0.6498 |\n",
      "|  0.3   |            0.4157            |  0.5039 |  0.5405 |  0.5685 |  0.6288 |  0.6556 |\n",
      "|  0.4   |            0.4286            |  0.4972 |  0.5355 |  0.5491 |  0.6143 |  0.6496 |\n",
      "|  0.5   |            0.4231            |  0.4854 |  0.5152 |  0.5337 |  0.6083 |  0.6507 |\n",
      "|  0.6   |            0.416             |  0.4708 |  0.5031 |  0.5208 |  0.6034 |  0.6236 |\n",
      "|  0.7   |            0.4158            |  0.4585 |  0.4718 |  0.4769 |  0.5739 |         |\n",
      "|  0.8   |            0.4063            |  0.4365 |  0.4445 |  0.4293 |  0.5361 |         |\n",
      "+--------+------------------------------+---------+---------+---------+---------+---------+\n"
     ]
    }
   ],
   "source": [
    "dirs = 'bagging_cold_start_positives_500_clean_data_size_250_additional_data_size_2000/[[32, 5, 5], [32, 5, 5], [32, 5, 5], [256]]/bagging_threshold_0.9_add_criterion_95_minimum_additional_size_50_lr_0.0003/seed_10/'\n",
    "\n",
    "folder1 = dirs + 'noise_0.8_ResNet29_pre-activation_lr_0.000003/'\n",
    "folder2 = dirs + 'noise_0.8_ResNet29_pre-activation_lr_0.00001/'\n",
    "folder3 = dirs + 'noise_0.8_ResNet29_pre-activation_lr_0.00003/'\n",
    "folder4 = dirs + 'noise_0.8_ResNet29_pre-activation_lr_0.0003/'\n",
    "folder5 = dirs + 'noise_0.8_ResNet29_pre-activation_lr_0.001/'\n",
    "folder6 = dirs + 'noise_0.8_ResNet29_pre-activation_lr_0.003/'\n",
    "\n",
    "lambda_list = [0.1, 0.2, 0.3, 0.4, 0.5, 0.6, 0.7, 0.8]\n",
    "table = PrettyTable(['lambda', 'noise=0.8, ResNet29, lr=3e-6', 'lr=1e-5', 'lr=3e-5', 'lr=3e-4', 'lr=1e-3', 'lr=3e-3'])\n",
    "\n",
    "for index in range(8):\n",
    "    if index == 0:\n",
    "        index0 = -10\n",
    "    else:\n",
    "        index0 = index - 1\n",
    "    lambda_ = lambda_list[index]\n",
    "    y1 = ' '\n",
    "    y2 = ' '\n",
    "    y3 = ' '\n",
    "    y4 = ' '\n",
    "    y5 = ' '\n",
    "    y6 = ' '\n",
    "\n",
    "    \n",
    "    try:\n",
    "        file = open(folder1 + 'bagging_teacher_file_student_0.txt')\n",
    "        line = file.readlines()\n",
    "        y1 = [float(x) for x in line[3+4*index0].replace('[', '').replace(']', '').replace('\\n', '').split(',')]\n",
    "        y1 = np.max(y1)\n",
    "    except:\n",
    "        pass\n",
    "    \n",
    "    try:\n",
    "        file = open(folder2 + 'bagging_teacher_file_student_0.txt')\n",
    "        line = file.readlines()\n",
    "        y2 = [float(x) for x in line[3+4*index0].replace('[', '').replace(']', '').replace('\\n', '').split(',')]\n",
    "        y2 = np.max(y2)\n",
    "    except:\n",
    "        pass\n",
    "    \n",
    "    try:\n",
    "        file = open(folder3 + 'bagging_teacher_file_student_0.txt')\n",
    "        line = file.readlines()\n",
    "        y3 = [float(x) for x in line[3+4*index0].replace('[', '').replace(']', '').replace('\\n', '').split(',')]\n",
    "        y3 = np.max(y3)\n",
    "    except:\n",
    "        pass\n",
    "    \n",
    "    try:\n",
    "        file = open(folder4 + 'bagging_teacher_file_student_0.txt')\n",
    "        line = file.readlines()\n",
    "        y4 = [float(x) for x in line[3+4*index].replace('[', '').replace(']', '').replace('\\n', '').split(',')]\n",
    "        y4 = np.max(y4)\n",
    "    except:\n",
    "        pass\n",
    "    \n",
    "    try:\n",
    "        file = open(folder5 + 'bagging_teacher_file_student_0.txt')\n",
    "        line = file.readlines()\n",
    "        y5 = [float(x) for x in line[3+4*index0].replace('[', '').replace(']', '').replace('\\n', '').split(',')]\n",
    "        y5 = np.max(y5)\n",
    "    except:\n",
    "        pass\n",
    " \n",
    "    try:\n",
    "        file = open(folder6 + 'bagging_teacher_file_student_0.txt')\n",
    "        line = file.readlines()\n",
    "        y6 = [float(x) for x in line[3+4*index].replace('[', '').replace(']', '').replace('\\n', '').split(',')]\n",
    "        y6 = np.max(y6)\n",
    "    except:\n",
    "        pass\n",
    "    \n",
    "    table.add_row([lambda_, y1, y2, y3, y4, y5, y6])\n",
    "\n",
    "print(table)"
   ]
  },
  {
   "cell_type": "code",
   "execution_count": 47,
   "metadata": {},
   "outputs": [
    {
     "name": "stdout",
     "output_type": "stream",
     "text": [
      "+--------+------------------------------+---------+\n",
      "| lambda | noise=0.8, ResNet56, lr=3e-6 | lr=3e-3 |\n",
      "+--------+------------------------------+---------+\n",
      "|  0.1   |                              |  0.6472 |\n",
      "|  0.2   |            0.4319            |  0.648  |\n",
      "|  0.3   |            0.4355            |  0.6549 |\n",
      "|  0.4   |            0.4378            |         |\n",
      "|  0.5   |            0.4301            |         |\n",
      "|  0.6   |            0.4284            |         |\n",
      "|  0.7   |            0.4151            |         |\n",
      "|  0.8   |            0.4023            |         |\n",
      "+--------+------------------------------+---------+\n"
     ]
    }
   ],
   "source": [
    "dirs = 'bagging_cold_start_positives_500_clean_data_size_250_additional_data_size_2000/[[32, 5, 5], [32, 5, 5], [32, 5, 5], [256]]/bagging_threshold_0.9_add_criterion_95_minimum_additional_size_50_lr_0.0003/seed_10/'\n",
    "\n",
    "folder1 = dirs + 'noise_0.8_ResNet56_pre-activation_lr_0.000003/'\n",
    "folder2 = dirs + 'noise_0.8_ResNet56_pre-activation_lr_0.003/'\n",
    "\n",
    "lambda_list = [0.1, 0.2, 0.3, 0.4, 0.5, 0.6, 0.7, 0.8]\n",
    "table = PrettyTable(['lambda', 'noise=0.8, ResNet56, lr=3e-6', 'lr=3e-3'])\n",
    "\n",
    "for index in range(8):\n",
    "    if index == 0:\n",
    "        index0 = -10\n",
    "    else:\n",
    "        index0 = index - 1\n",
    "    lambda_ = lambda_list[index]\n",
    "    y1 = ' '\n",
    "    y2 = ' '\n",
    "    \n",
    "    try:\n",
    "        file = open(folder1 + 'bagging_teacher_file_student_0.txt')\n",
    "        line = file.readlines()\n",
    "        y1 = [float(x) for x in line[3+4*index0].replace('[', '').replace(']', '').replace('\\n', '').split(',')]\n",
    "        y1 = np.max(y1)\n",
    "    except:\n",
    "        pass\n",
    "    \n",
    "    try:\n",
    "        file = open(folder2 + 'bagging_teacher_file_student_0.txt')\n",
    "        line = file.readlines()\n",
    "        y2 = [float(x) for x in line[3+4*index].replace('[', '').replace(']', '').replace('\\n', '').split(',')]\n",
    "        y2 = np.max(y2)\n",
    "    except:\n",
    "        pass\n",
    "    \n",
    "    table.add_row([lambda_, y1, y2])\n",
    "\n",
    "print(table)"
   ]
  },
  {
   "cell_type": "code",
   "execution_count": 48,
   "metadata": {},
   "outputs": [
    {
     "name": "stdout",
     "output_type": "stream",
     "text": [
      "+--------+------------------------------+----------+----------+-----------+\n",
      "| lambda | noise=0.5, ResNet29, lr=0.01 | lr=0.003 | lr=0.001 | lr=0.0003 |\n",
      "+--------+------------------------------+----------+----------+-----------+\n",
      "|  0.1   |            0.6118            |  0.6561  |  0.6303  |   0.6039  |\n",
      "|  0.2   |            0.6112            |  0.6741  |  0.6568  |   0.6048  |\n",
      "|  0.3   |            0.6157            |  0.6855  |  0.6648  |   0.6138  |\n",
      "|  0.4   |            0.6148            |  0.7033  |  0.6635  |   0.5992  |\n",
      "|  0.5   |            0.6138            |  0.7201  |  0.6553  |    0.59   |\n",
      "|  0.6   |            0.5968            |  0.7284  |  0.6608  |   0.5791  |\n",
      "|  0.7   |            0.5992            |          |          |   0.5906  |\n",
      "|  0.8   |            0.5744            |          |          |   0.5466  |\n",
      "+--------+------------------------------+----------+----------+-----------+\n"
     ]
    }
   ],
   "source": [
    "dirs = 'bagging_cold_start_positives_500_clean_data_size_250_additional_data_size_2000/[[32, 5, 5], [32, 5, 5], [32, 5, 5], [256]]/bagging_threshold_0.9_add_criterion_95_minimum_additional_size_50_lr_0.0003/seed_10/'\n",
    "\n",
    "folder1 = dirs + 'noise_0.5_ResNet29_pre-activation_lr_0.01/'\n",
    "folder2 = dirs + 'noise_0.5_ResNet29_pre-activation_lr_0.003/'\n",
    "folder3 = dirs + 'noise_0.5_ResNet29_pre-activation_lr_0.001/'\n",
    "folder4 = dirs + 'noise_0.5_ResNet29_pre-activation_lr_0.0003/'\n",
    "\n",
    "lambda_list = [0.1, 0.2, 0.3, 0.4, 0.5, 0.6, 0.7, 0.8]\n",
    "table = PrettyTable(['lambda', 'noise=0.5, ResNet29, lr=0.01', 'lr=0.003', 'lr=0.001', 'lr=0.0003'])\n",
    "\n",
    "for index in range(8):\n",
    "    \n",
    "    lambda_ = lambda_list[index]\n",
    "    y1 = ' '\n",
    "    y2 = ' '\n",
    "    y3 = ' '\n",
    "    y4 = ' '\n",
    "    \n",
    "    try:\n",
    "        file = open(folder1 + 'bagging_teacher_file_student_0.txt')\n",
    "        line = file.readlines()\n",
    "        y1 = [float(x) for x in line[3+4*index].replace('[', '').replace(']', '').replace('\\n', '').split(',')]\n",
    "        y1 = np.max(y1)\n",
    "    except:\n",
    "        pass\n",
    "    \n",
    "    try:\n",
    "        file = open(folder2 + 'bagging_teacher_file_student_0.txt')\n",
    "        line = file.readlines()\n",
    "        y2 = [float(x) for x in line[3+4*index].replace('[', '').replace(']', '').replace('\\n', '').split(',')]\n",
    "        y2 = np.max(y2)\n",
    "    except:\n",
    "        pass\n",
    "    \n",
    "    try:\n",
    "        file = open(folder3 + 'bagging_teacher_file_student_0.txt')\n",
    "        line = file.readlines()\n",
    "        y3 = [float(x) for x in line[3+4*index].replace('[', '').replace(']', '').replace('\\n', '').split(',')]\n",
    "        y3 = np.max(y3)\n",
    "    except:\n",
    "        pass\n",
    "    \n",
    "    try:\n",
    "        file = open(folder4 + 'bagging_teacher_file_student_0.txt')\n",
    "        line = file.readlines()\n",
    "        y4 = [float(x) for x in line[3+4*index].replace('[', '').replace(']', '').replace('\\n', '').split(',')]\n",
    "        y4 = np.max(y4)\n",
    "    except:\n",
    "        pass\n",
    "    \n",
    "    table.add_row([lambda_, y1, y2, y3, y4])\n",
    "\n",
    "print(table)"
   ]
  },
  {
   "cell_type": "code",
   "execution_count": null,
   "metadata": {},
   "outputs": [],
   "source": []
  },
  {
   "cell_type": "code",
   "execution_count": null,
   "metadata": {},
   "outputs": [],
   "source": []
  },
  {
   "cell_type": "code",
   "execution_count": null,
   "metadata": {},
   "outputs": [],
   "source": [
    "architecture = [[64, 5, 5], [64, 5, 5], [32, 5, 5], [32, 5, 5], [16, 5, 5], [256]]\n",
    "\n",
    "    \n",
    "architecture = [[32, 5, 5], [32, 5, 5], [32, 5, 5], [64, 5, 5], [64, 5, 5], [256]]\n",
    "\n",
    "    \n",
    "architecture = [[32, 5, 5], [32, 5, 5], [32, 5, 5], [256]]\n",
    "\n",
    "    \n",
    "architecture = [[16, 5, 5], [32, 5, 5], [64, 5, 5], [256]]\n",
    "\n",
    "    "
   ]
  },
  {
   "cell_type": "code",
   "execution_count": 27,
   "metadata": {},
   "outputs": [],
   "source": [
    "# dirs1\n",
    "def run_test(architecture):\n",
    "    print('architecture:', architecture)\n",
    "    table = PrettyTable(['threshold', 'criterion', 'learning rate', 'max mean', 'mean max'])\n",
    "    for threshold in [0.85, 0.90]:\n",
    "        for criterion in [80]:\n",
    "            for learning_rate in [0.0001, 0.0003]:\n",
    "                folder = str(architecture) + '/bagging_threshold_' + str(threshold) + '_add_criterion_' + str(criterion) + \\\n",
    "                            '_minimum_additional_size_50_lr_' + str(learning_rate) + '/seed_10/test_precision/'           \n",
    "\n",
    "                accuracy = np.zeros((5, 50))\n",
    "                bagging_accuracy = np.zeros((5, 50))\n",
    "\n",
    "                for index in range(5):\n",
    "                    file = open(folder + 'teacher_whole_additional_data_' + str(index) + '.txt')\n",
    "                    line = file.readlines()\n",
    "                    y = [float(x) for x in line[3].replace('[', '').replace(']', '').replace('\\n', '').split(',')]\n",
    "                    accuracy[index, 0:len(y)] = y\n",
    "\n",
    "                    bagging_file = open(folder + 'teacher_bagging_' + str(index) + '.txt')\n",
    "                    line = bagging_file.readlines()\n",
    "                    y = [float(x) for x in line[3].replace('[', '').replace(']', '').replace('\\n', '').split(',')]\n",
    "                    bagging_accuracy[index, 0:len(y)] = y\n",
    "\n",
    "                acc = np.mean(accuracy, axis=0)\n",
    "                bagging_acc = np.mean(bagging_accuracy, axis=0)\n",
    "\n",
    "                table.add_row([str(threshold), criterion, learning_rate, np.round(np.max(acc), decimals=3), np.round(np.mean(np.max(accuracy, axis=1)), decimals=3)])\n",
    "    print(table)"
   ]
  },
  {
   "cell_type": "code",
   "execution_count": 28,
   "metadata": {},
   "outputs": [
    {
     "name": "stdout",
     "output_type": "stream",
     "text": [
      "architecture: [[64, 5, 5], [64, 5, 5], [32, 5, 5], [32, 5, 5], [16, 5, 5], [256]]\n",
      "+-----------+-----------+---------------+----------+----------+\n",
      "| threshold | criterion | learning rate | max mean | mean max |\n",
      "+-----------+-----------+---------------+----------+----------+\n",
      "|    0.85   |     80    |     0.0001    |  0.393   |  0.398   |\n",
      "|    0.85   |     80    |     0.0003    |  0.396   |  0.399   |\n",
      "|    0.9    |     80    |     0.0001    |  0.386   |   0.39   |\n",
      "|    0.9    |     80    |     0.0003    |  0.391   |  0.397   |\n",
      "+-----------+-----------+---------------+----------+----------+\n",
      "architecture: [[32, 5, 5], [32, 5, 5], [32, 5, 5], [64, 5, 5], [64, 5, 5], [256]]\n",
      "+-----------+-----------+---------------+----------+----------+\n",
      "| threshold | criterion | learning rate | max mean | mean max |\n",
      "+-----------+-----------+---------------+----------+----------+\n",
      "|    0.85   |     80    |     0.0001    |  0.391   |  0.395   |\n",
      "|    0.85   |     80    |     0.0003    |  0.395   |  0.401   |\n",
      "|    0.9    |     80    |     0.0001    |  0.387   |  0.393   |\n",
      "|    0.9    |     80    |     0.0003    |  0.388   |  0.393   |\n",
      "+-----------+-----------+---------------+----------+----------+\n",
      "architecture: [[32, 5, 5], [32, 5, 5], [32, 5, 5], [256]]\n",
      "+-----------+-----------+---------------+----------+----------+\n",
      "| threshold | criterion | learning rate | max mean | mean max |\n",
      "+-----------+-----------+---------------+----------+----------+\n",
      "|    0.85   |     80    |     0.0001    |  0.395   |  0.402   |\n",
      "|    0.85   |     80    |     0.0003    |  0.395   |  0.399   |\n",
      "|    0.9    |     80    |     0.0001    |  0.391   |  0.396   |\n",
      "|    0.9    |     80    |     0.0003    |  0.393   |  0.398   |\n",
      "+-----------+-----------+---------------+----------+----------+\n",
      "architecture: [[16, 5, 5], [32, 5, 5], [64, 5, 5], [256]]\n",
      "+-----------+-----------+---------------+----------+----------+\n",
      "| threshold | criterion | learning rate | max mean | mean max |\n",
      "+-----------+-----------+---------------+----------+----------+\n",
      "|    0.85   |     80    |     0.0001    |  0.394   |  0.399   |\n",
      "|    0.85   |     80    |     0.0003    |  0.389   |  0.396   |\n",
      "|    0.9    |     80    |     0.0001    |  0.382   |  0.386   |\n",
      "|    0.9    |     80    |     0.0003    |  0.389   |  0.393   |\n",
      "+-----------+-----------+---------------+----------+----------+\n"
     ]
    }
   ],
   "source": [
    "architecture = [[64, 5, 5], [64, 5, 5], [32, 5, 5], [32, 5, 5], [16, 5, 5], [256]]\n",
    "run_test(architecture)\n",
    "    \n",
    "architecture = [[32, 5, 5], [32, 5, 5], [32, 5, 5], [64, 5, 5], [64, 5, 5], [256]]\n",
    "run_test(architecture)\n",
    "    \n",
    "architecture = [[32, 5, 5], [32, 5, 5], [32, 5, 5], [256]]\n",
    "run_test(architecture)\n",
    "    \n",
    "architecture = [[16, 5, 5], [32, 5, 5], [64, 5, 5], [256]]\n",
    "run_test(architecture)\n",
    "    "
   ]
  },
  {
   "cell_type": "code",
   "execution_count": null,
   "metadata": {},
   "outputs": [],
   "source": []
  },
  {
   "cell_type": "code",
   "execution_count": null,
   "metadata": {},
   "outputs": [],
   "source": []
  },
  {
   "cell_type": "code",
   "execution_count": null,
   "metadata": {},
   "outputs": [],
   "source": []
  },
  {
   "cell_type": "code",
   "execution_count": null,
   "metadata": {},
   "outputs": [],
   "source": []
  },
  {
   "cell_type": "code",
   "execution_count": 5,
   "metadata": {},
   "outputs": [
    {
     "name": "stdout",
     "output_type": "stream",
     "text": [
      "[[0.718 0.674 0.447 0.358 0.233 0.671 0.794 0.817 0.78  0.63 ]\n",
      " [0.722 0.774 0.465 0.38  0.42  0.658 0.789 0.876 0.8   0.658]\n",
      " [0.721 0.784 0.496 0.402 0.464 0.688 0.771 0.868 0.806 0.667]\n",
      " [0.727 0.757 0.471 0.429 0.42  0.693 0.782 0.887 0.828 0.667]\n",
      " [0.718 0.772 0.477 0.382 0.52  0.694 0.865 0.892 0.832 0.691]\n",
      " [0.72  0.792 0.487 0.382 0.402 0.713 0.892 0.901 0.851 0.682]\n",
      " [0.731 0.79  0.494 0.372 0.433 0.681 0.869 0.895 0.867 0.686]\n",
      " [0.719 0.784 0.475 0.374 0.443 0.695 0.87  0.905 0.863 0.701]\n",
      " [0.729 0.788 0.467 0.372 0.448 0.702 0.867 0.895 0.871 0.681]\n",
      " [0.728 0.778 0.488 0.377 0.453 0.7   0.858 0.891 0.862 0.697]]\n",
      "[[571. 892. 206. 399. 116. 474.  97. 715. 455. 848.]\n",
      " [805. 544. 185. 347.  81. 351. 227. 500. 641. 734.]\n",
      " [829. 616. 125. 249.  69. 276. 192. 453. 494. 526.]\n",
      " [828. 736. 227. 198.  50. 202. 142. 371. 424. 493.]\n",
      " [834. 754. 239. 338.  50. 144. 111. 332. 417. 375.]\n",
      " [832. 775. 236. 348. 102. 115.  83. 292. 403. 308.]\n",
      " [821. 748. 259. 363. 104. 238.  61. 248. 286. 239.]\n",
      " [864. 786. 257. 364.  88. 243. 138. 241. 291. 261.]\n",
      " [840. 780. 244. 374.  87. 248. 135. 372. 286. 232.]\n",
      " [820. 824. 254. 390.  86. 227. 134. 421. 434. 198.]]\n",
      "bagging_threshold_0.95_add_criterion_90_minimum_additional_size_50/seed_10/\n"
     ]
    },
    {
     "data": {
      "text/plain": [
       "<Figure size 432x288 with 0 Axes>"
      ]
     },
     "metadata": {},
     "output_type": "display_data"
    },
    {
     "data": {
      "image/png": "[encoded data removed]",
      "text/plain": [
       "<Figure size 720x432 with 1 Axes>"
      ]
     },
     "metadata": {
      "needs_background": "light"
     },
     "output_type": "display_data"
    },
    {
     "name": "stdout",
     "output_type": "stream",
     "text": [
      "+-----------------+----------+----------+-------+\n",
      "|       line      | max mean | mean max |  Last |\n",
      "+-----------------+----------+----------+-------+\n",
      "|  student, λ=0.8 |  0.422   |  0.424   | 0.254 |\n",
      "| student, λ=0.85 |  0.424   |  0.427   | 0.226 |\n",
      "|  student, λ=0.9 |  0.426   |  0.426   | 0.203 |\n",
      "| student, λ=0.95 |  0.404   |  0.408   | 0.178 |\n",
      "+-----------------+----------+----------+-------+\n"
     ]
    }
   ],
   "source": [
    "# dirs1\n",
    "\n",
    "for threshold in [0.95]:\n",
    "    for criterion in [90]:\n",
    "        folder = 'bagging_threshold_' + str(threshold) + '_add_criterion_' + str(criterion) + \\\n",
    "                '_minimum_additional_size_50/seed_10/'\n",
    "        precision_file = open(folder + 'precision_file.txt')\n",
    "        \n",
    "        line = precision_file.readlines()\n",
    "        precision = np.zeros((10, 10))\n",
    "        number = np.zeros((10, 10))\n",
    "        for i in range(10):\n",
    "            precision[:, i] = [float(x) for x in line[i*2].replace('[', '').replace(']', '').replace('\\n', '').split(',')]\n",
    "            number[:, i] = [int(x) for x in line[i*2+1].replace('[', '').replace(']', '').replace('\\n', '').split(',')]\n",
    "            \n",
    "        print(np.around(precision, decimals=3))\n",
    "        print(number)\n",
    "        print(folder)\n",
    "        lambda_list = [0.8, 0.85, 0.9, 0.95]\n",
    "        student_accuracy = np.zeros((4, 5, 50))\n",
    "        for lambda_i in range(4):\n",
    "            for index in range(5):\n",
    "                student_file = open(folder + 'bagging_teacher_file_student_' + str(index) + '.txt')\n",
    "                \n",
    "                line = student_file.readlines()\n",
    "                student_accuracy[lambda_i, index, :] = [float(x) for x in line[lambda_i*4+3].replace('[', '').replace(']', '').replace('\\n', '').split(',')]\n",
    "                \n",
    "        student_acc = np.mean(student_accuracy, axis=1)\n",
    "        \n",
    "        plt.figure(1) # 创建图表1\n",
    "        plt.figure(figsize=(10,6))\n",
    "       \n",
    "        for lambda_i in range(4):\n",
    "            plt.plot(np.arange(50)+1, student_acc[lambda_i], label='student, $\\lambda$=%.1f'%lambda_list[lambda_i])\n",
    "        \n",
    "        plt.legend()\n",
    "        plt.grid()\n",
    "        plt.ylim(0,1)\n",
    "        plt.xlabel('epoch')\n",
    "        plt.ylabel('accuracy')\n",
    "        plt.title('confident threshold %.2f, adding criterion %d'%(threshold, criterion))\n",
    "\n",
    "#         dirs1 = 'figure/' + dirs\n",
    "#         if not os.path.exists(dirs1):\n",
    "#             os.makedirs(dirs1)\n",
    "#         plt.savefig(dirs1 + 'bagging_threshold_' + str(threshold) + '_add_criterion_' + str(criterion) + '_minimum_additional_size_50.png')\n",
    "        plt.show()\n",
    "        \n",
    "        table = PrettyTable(['line', 'max mean', 'mean max', 'Last'])\n",
    "        for i in range(4):\n",
    "            table.add_row(['student, λ='+str(lambda_list[i]), np.round(np.max(student_acc[i]), decimals=3), np.round(np.mean(np.max(student_accuracy[i], axis=1)), decimals=3), np.round(student_acc[i, -1], decimals=3)])\n",
    "        print(table)"
   ]
  },
  {
   "cell_type": "code",
   "execution_count": 6,
   "metadata": {},
   "outputs": [
    {
     "name": "stdout",
     "output_type": "stream",
     "text": [
      "[[-0.23292047 -0.6967951   0.62013288 -1.19209395  0.16948399 -0.27394572]\n",
      " [ 0.73744297 -0.77609235 -0.27596667 -0.70944411  0.68959433 -0.06766058]\n",
      " [-1.33254973 -1.43695537  1.50781456  0.32355214  0.66979037  0.97987055]]\n",
      "[0.62013288 0.73744297 1.50781456]\n"
     ]
    }
   ],
   "source": [
    "a = np.random.randn(3,6)\n",
    "print(a)\n",
    "print(np.max(a, axis=1))"
   ]
  },
  {
   "cell_type": "code",
   "execution_count": 9,
   "metadata": {},
   "outputs": [
    {
     "name": "stdout",
     "output_type": "stream",
     "text": [
      "[[ 0.21103878 -1.26558051 -0.44026078  0.57333382  0.45731755  0.\n",
      "   0.          0.          0.          0.        ]\n",
      " [ 0.          0.          0.          0.          0.          0.\n",
      "   0.          0.          0.          0.        ]]\n"
     ]
    }
   ],
   "source": [
    "a = np.zeros((2,10))\n",
    "a[0, 0:5] = np.random.randn(5)\n",
    "print(a)"
   ]
  },
  {
   "cell_type": "code",
   "execution_count": null,
   "metadata": {},
   "outputs": [],
   "source": []
  }
 ],
 "metadata": {
  "kernelspec": {
   "display_name": "Python 3",
   "language": "python",
   "name": "python3"
  },
  "language_info": {
   "codemirror_mode": {
    "name": "ipython",
    "version": 3
   },
   "file_extension": ".py",
   "mimetype": "text/x-python",
   "name": "python",
   "nbconvert_exporter": "python",
   "pygments_lexer": "ipython3",
   "version": "3.6.7"
  }
 },
 "nbformat": 4,
 "nbformat_minor": 2
}
