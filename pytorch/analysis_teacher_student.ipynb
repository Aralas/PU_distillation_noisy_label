{
 "cells": [
  {
   "cell_type": "code",
   "execution_count": 2,
   "metadata": {},
   "outputs": [
    {
     "name": "stderr",
     "output_type": "stream",
     "text": [
      "Using TensorFlow backend.\n",
      "/usr/local/lib/python3.6/dist-packages/tensorflow/python/framework/dtypes.py:523: FutureWarning: Passing (type, 1) or '1type' as a synonym of type is deprecated; in a future version of numpy, it will be understood as (type, (1,)) / '(1,)type'.\n",
      "  _np_qint8 = np.dtype([(\"qint8\", np.int8, 1)])\n",
      "/usr/local/lib/python3.6/dist-packages/tensorflow/python/framework/dtypes.py:524: FutureWarning: Passing (type, 1) or '1type' as a synonym of type is deprecated; in a future version of numpy, it will be understood as (type, (1,)) / '(1,)type'.\n",
      "  _np_quint8 = np.dtype([(\"quint8\", np.uint8, 1)])\n",
      "/usr/local/lib/python3.6/dist-packages/tensorflow/python/framework/dtypes.py:525: FutureWarning: Passing (type, 1) or '1type' as a synonym of type is deprecated; in a future version of numpy, it will be understood as (type, (1,)) / '(1,)type'.\n",
      "  _np_qint16 = np.dtype([(\"qint16\", np.int16, 1)])\n",
      "/usr/local/lib/python3.6/dist-packages/tensorflow/python/framework/dtypes.py:526: FutureWarning: Passing (type, 1) or '1type' as a synonym of type is deprecated; in a future version of numpy, it will be understood as (type, (1,)) / '(1,)type'.\n",
      "  _np_quint16 = np.dtype([(\"quint16\", np.uint16, 1)])\n",
      "/usr/local/lib/python3.6/dist-packages/tensorflow/python/framework/dtypes.py:527: FutureWarning: Passing (type, 1) or '1type' as a synonym of type is deprecated; in a future version of numpy, it will be understood as (type, (1,)) / '(1,)type'.\n",
      "  _np_qint32 = np.dtype([(\"qint32\", np.int32, 1)])\n",
      "/usr/local/lib/python3.6/dist-packages/tensorflow/python/framework/dtypes.py:532: FutureWarning: Passing (type, 1) or '1type' as a synonym of type is deprecated; in a future version of numpy, it will be understood as (type, (1,)) / '(1,)type'.\n",
      "  np_resource = np.dtype([(\"resource\", np.ubyte, 1)])\n"
     ]
    }
   ],
   "source": [
    "import time\n",
    "import os\n",
    "import re\n",
    "import numpy as np\n",
    "import torch\n",
    "import torch.nn as nn\n",
    "from torch.autograd import Variable\n",
    "import torch.nn.functional as F\n",
    "import torchvision\n",
    "from copy import deepcopy\n",
    "import torchvision.transforms as transforms\n",
    "from torch.utils.data.dataset import Subset\n",
    "from PreResNet import ResNet18\n",
    "\n",
    "\n",
    "import string\n",
    "import matplotlib.pyplot as plt\n",
    "from prettytable import PrettyTable\n",
    "from IPython.display import Latex\n",
    "from keras.datasets import cifar10\n",
    "import tensorflow as tf\n",
    "\n",
    "# gpu or cpu\n",
    "device = torch.device(\"cuda\")"
   ]
  },
  {
   "cell_type": "code",
   "execution_count": 7,
   "metadata": {},
   "outputs": [
    {
     "name": "stdout",
     "output_type": "stream",
     "text": [
      "[0, 0, 1, 1, 2, 2, 3, 3, 4, 4, 5, 5, 6, 6, 7, 7, 8, 8, 9, 9]\n"
     ]
    }
   ],
   "source": [
    "print(sum([[i]*2 for i in range(10)], []))"
   ]
  },
  {
   "cell_type": "code",
   "execution_count": 12,
   "metadata": {},
   "outputs": [
    {
     "name": "stdout",
     "output_type": "stream",
     "text": [
      "[0.16666667 0.33333333 0.5       ]\n"
     ]
    }
   ],
   "source": [
    "a = [1,2,3]\n",
    "print(a/np.sum(a))"
   ]
  },
  {
   "cell_type": "code",
   "execution_count": 26,
   "metadata": {
    "scrolled": false
   },
   "outputs": [
    {
     "name": "stdout",
     "output_type": "stream",
     "text": [
      "Train teacher new\n",
      "+---------------+----------+----------+-----------+----------+\n",
      "|               |  lr=0.3  |   0.2    |    0.1    |   0.01   |\n",
      "+---------------+----------+----------+-----------+----------+\n",
      "|   w.o mixup   | 0.435(5) | 0.662(3) |  0.666(5) | 0.663(3) |\n",
      "|   with mixup  |    /     |  0.7(3)  | 0.698(16) | 0.698(3) |\n",
      "| weighted loss |    /     |    /     |  0.596(4) | 0.648(1) |\n",
      "+---------------+----------+----------+-----------+----------+\n"
     ]
    }
   ],
   "source": [
    "print(\"Train teacher new\")\n",
    "table = PrettyTable([' ', 'lr=0.3', '0.2', '0.1', '0.01'])\n",
    "test = ['w.o mixup'] \n",
    "for lr in ['0.300', '0.200', '0.100', '0.010']:\n",
    "    acc = []\n",
    "    for index in range(5):\n",
    "        try:\n",
    "            file = open('record/teacher_new/acc_lr_'+lr+'_'+str(index)+'.txt')               \n",
    "            lines = file.readlines()\n",
    "            test_acc = []\n",
    "            for line in lines:\n",
    "                new_line = re.split(':|,| |\\n', line.strip())\n",
    "                test_acc.append(eval(new_line[12]))\n",
    "            acc.append(max(test_acc))\n",
    "        except:\n",
    "            pass\n",
    "    if len(acc)>0:\n",
    "        test.append(str(np.round(np.mean(acc),3)) + '(' + str(len(acc)) + ')')\n",
    "    else:\n",
    "        test.append('/')\n",
    "table.add_row(test)\n",
    "\n",
    "test = ['with mixup'] \n",
    "for lr in ['0.300', '0.200', '0.100', '0.010']:\n",
    "    acc = []\n",
    "    for index in range(20):\n",
    "        try:\n",
    "            file = open('record/teacher_mixup_new/acc_lr_'+lr+'_'+str(index)+'.txt')               \n",
    "            lines = file.readlines()\n",
    "            test_acc = []\n",
    "            for line in lines:\n",
    "                new_line = re.split(':|,| |\\n', line.strip())\n",
    "                test_acc.append(eval(new_line[12]))\n",
    "            acc.append(max(test_acc))\n",
    "        except:\n",
    "            pass\n",
    "    if len(acc)>0:\n",
    "        test.append(str(np.round(np.mean(acc),3)) + '(' + str(len(acc)) + ')')\n",
    "    else:\n",
    "        test.append('/')\n",
    "table.add_row(test)\n",
    "\n",
    "\n",
    "test = ['weighted loss'] \n",
    "for lr in ['0.300', '0.200', '0.100', '0.010']:\n",
    "    acc = []\n",
    "    for index in range(5):\n",
    "        try:\n",
    "            file = open('record/teacher_weighted_loss_new2/acc_lr_'+lr+'_'+str(index)+'.txt')               \n",
    "            lines = file.readlines()\n",
    "            test_acc = []\n",
    "            for line in lines:\n",
    "                new_line = re.split(':|,| |\\n', line.strip())\n",
    "                test_acc.append(eval(new_line[12]))\n",
    "            acc.append(max(test_acc))\n",
    "        except:\n",
    "            pass\n",
    "    if len(acc)>0:\n",
    "        test.append(str(np.round(np.mean(acc),3)) + '(' + str(len(acc)) + ')')\n",
    "    else:\n",
    "        test.append('/')\n",
    "table.add_row(test)\n",
    "print(table)"
   ]
  },
  {
   "cell_type": "code",
   "execution_count": 19,
   "metadata": {},
   "outputs": [
    {
     "name": "stdout",
     "output_type": "stream",
     "text": [
      "[0 0 0 0 0 1 1 1 1 1 2 2 2 2 2]\n",
      "[0 1 2 3 4]\n",
      "[5 6 7 8 9]\n",
      "[10 11 12 13 14]\n",
      "[array([0, 1, 2, 3, 4]), array([5, 6, 7, 8, 9]), array([10, 11, 12, 13, 14])]\n"
     ]
    }
   ],
   "source": [
    "y = np.array([0]*5+[1]*5+[2]*5)\n",
    "print(y)\n",
    "index_list = []\n",
    "for i in range(3):\n",
    "    indices = np.where(y==i)[0]\n",
    "    index_list.append(indices)\n",
    "    print(indices)\n",
    "print(index_list)"
   ]
  }
 ],
 "metadata": {
  "kernelspec": {
   "display_name": "Python 3",
   "language": "python",
   "name": "python3"
  },
  "language_info": {
   "codemirror_mode": {
    "name": "ipython",
    "version": 3
   },
   "file_extension": ".py",
   "mimetype": "text/x-python",
   "name": "python",
   "nbconvert_exporter": "python",
   "pygments_lexer": "ipython3",
   "version": "3.6.9"
  }
 },
 "nbformat": 4,
 "nbformat_minor": 2
}
