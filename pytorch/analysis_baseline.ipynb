{
 "cells": [
  {
   "cell_type": "code",
   "execution_count": 3,
   "metadata": {},
   "outputs": [],
   "source": [
    "import time\n",
    "import os\n",
    "import re\n",
    "import numpy as np\n",
    "import torch\n",
    "import torch.nn as nn\n",
    "from torch.autograd import Variable\n",
    "import torch.nn.functional as F\n",
    "import torchvision\n",
    "from copy import deepcopy\n",
    "import torchvision.transforms as transforms\n",
    "from torch.utils.data.dataset import Subset\n",
    "from PreResNet import ResNet18\n",
    "\n",
    "\n",
    "import string\n",
    "import matplotlib.pyplot as plt\n",
    "from prettytable import PrettyTable\n",
    "from IPython.display import Latex\n",
    "\n",
    "\n",
    "# gpu or cpu\n",
    "device = torch.device(\"cuda\")"
   ]
  },
  {
   "cell_type": "code",
   "execution_count": 7,
   "metadata": {
    "scrolled": false
   },
   "outputs": [
    {
     "name": "stdout",
     "output_type": "stream",
     "text": [
      "Train baseline\n",
      "record/baseline_new/acc_lr_0.200_noise_0.30_0.txt\n",
      "record/baseline_new/acc_lr_0.200_noise_0.30_1.txt\n",
      "record/baseline_new/acc_lr_0.200_noise_0.30_2.txt\n",
      "record/baseline_new/acc_lr_0.200_noise_0.30_3.txt\n",
      "record/baseline_new/acc_lr_0.200_noise_0.30_4.txt\n",
      "record/baseline_new/acc_lr_0.200_noise_0.50_0.txt\n",
      "record/baseline_new/acc_lr_0.200_noise_0.50_1.txt\n",
      "record/baseline_new/acc_lr_0.200_noise_0.50_2.txt\n",
      "record/baseline_new/acc_lr_0.200_noise_0.50_3.txt\n",
      "record/baseline_new/acc_lr_0.200_noise_0.50_4.txt\n",
      "record/baseline_new/acc_lr_0.200_noise_0.70_0.txt\n",
      "record/baseline_new/acc_lr_0.200_noise_0.70_1.txt\n",
      "record/baseline_new/acc_lr_0.200_noise_0.70_2.txt\n",
      "record/baseline_new/acc_lr_0.200_noise_0.70_3.txt\n",
      "record/baseline_new/acc_lr_0.200_noise_0.70_4.txt\n",
      "record/baseline_new/acc_lr_0.200_noise_0.80_0.txt\n",
      "record/baseline_new/acc_lr_0.200_noise_0.80_1.txt\n",
      "record/baseline_new/acc_lr_0.200_noise_0.80_2.txt\n",
      "record/baseline_new/acc_lr_0.200_noise_0.80_3.txt\n",
      "record/baseline_new/acc_lr_0.200_noise_0.80_4.txt\n",
      "record/baseline_new/acc_lr_0.200_noise_0.90_0.txt\n",
      "record/baseline_new/acc_lr_0.200_noise_0.90_1.txt\n",
      "record/baseline_new/acc_lr_0.200_noise_0.90_2.txt\n",
      "record/baseline_new/acc_lr_0.200_noise_0.90_3.txt\n",
      "record/baseline_new/acc_lr_0.200_noise_0.90_4.txt\n",
      "record/baseline_new/acc_lr_0.100_noise_0.30_0.txt\n",
      "record/baseline_new/acc_lr_0.100_noise_0.30_1.txt\n",
      "record/baseline_new/acc_lr_0.100_noise_0.30_2.txt\n",
      "record/baseline_new/acc_lr_0.100_noise_0.30_3.txt\n",
      "record/baseline_new/acc_lr_0.100_noise_0.30_4.txt\n",
      "record/baseline_new/acc_lr_0.100_noise_0.50_0.txt\n",
      "record/baseline_new/acc_lr_0.100_noise_0.50_1.txt\n",
      "record/baseline_new/acc_lr_0.100_noise_0.50_2.txt\n",
      "record/baseline_new/acc_lr_0.100_noise_0.50_3.txt\n",
      "record/baseline_new/acc_lr_0.100_noise_0.50_4.txt\n",
      "record/baseline_new/acc_lr_0.100_noise_0.70_0.txt\n",
      "record/baseline_new/acc_lr_0.100_noise_0.70_1.txt\n",
      "record/baseline_new/acc_lr_0.100_noise_0.70_2.txt\n",
      "record/baseline_new/acc_lr_0.100_noise_0.70_3.txt\n",
      "record/baseline_new/acc_lr_0.100_noise_0.70_4.txt\n",
      "record/baseline_new/acc_lr_0.100_noise_0.80_0.txt\n",
      "record/baseline_new/acc_lr_0.100_noise_0.80_1.txt\n",
      "record/baseline_new/acc_lr_0.100_noise_0.80_2.txt\n",
      "record/baseline_new/acc_lr_0.100_noise_0.80_3.txt\n",
      "record/baseline_new/acc_lr_0.100_noise_0.80_4.txt\n",
      "record/baseline_new/acc_lr_0.100_noise_0.90_0.txt\n",
      "record/baseline_new/acc_lr_0.100_noise_0.90_1.txt\n",
      "record/baseline_new/acc_lr_0.100_noise_0.90_2.txt\n",
      "record/baseline_new/acc_lr_0.100_noise_0.90_3.txt\n",
      "record/baseline_new/acc_lr_0.100_noise_0.90_4.txt\n",
      "record/baseline_new/acc_lr_0.050_noise_0.30_0.txt\n",
      "record/baseline_new/acc_lr_0.050_noise_0.30_1.txt\n",
      "record/baseline_new/acc_lr_0.050_noise_0.30_2.txt\n",
      "record/baseline_new/acc_lr_0.050_noise_0.30_3.txt\n",
      "record/baseline_new/acc_lr_0.050_noise_0.30_4.txt\n",
      "record/baseline_new/acc_lr_0.050_noise_0.50_0.txt\n",
      "record/baseline_new/acc_lr_0.050_noise_0.50_1.txt\n",
      "record/baseline_new/acc_lr_0.050_noise_0.50_2.txt\n",
      "record/baseline_new/acc_lr_0.050_noise_0.50_3.txt\n",
      "record/baseline_new/acc_lr_0.050_noise_0.50_4.txt\n",
      "record/baseline_new/acc_lr_0.050_noise_0.70_0.txt\n",
      "record/baseline_new/acc_lr_0.050_noise_0.70_1.txt\n",
      "record/baseline_new/acc_lr_0.050_noise_0.70_2.txt\n",
      "record/baseline_new/acc_lr_0.050_noise_0.70_3.txt\n",
      "record/baseline_new/acc_lr_0.050_noise_0.70_4.txt\n",
      "record/baseline_new/acc_lr_0.050_noise_0.80_0.txt\n",
      "record/baseline_new/acc_lr_0.050_noise_0.80_1.txt\n",
      "record/baseline_new/acc_lr_0.050_noise_0.80_2.txt\n",
      "record/baseline_new/acc_lr_0.050_noise_0.80_3.txt\n",
      "record/baseline_new/acc_lr_0.050_noise_0.80_4.txt\n",
      "record/baseline_new/acc_lr_0.050_noise_0.90_0.txt\n",
      "record/baseline_new/acc_lr_0.050_noise_0.90_1.txt\n",
      "record/baseline_new/acc_lr_0.050_noise_0.90_2.txt\n",
      "record/baseline_new/acc_lr_0.050_noise_0.90_3.txt\n",
      "record/baseline_new/acc_lr_0.050_noise_0.90_4.txt\n",
      "+------+-----------+-----+-----+-----+-----+\n",
      "|      | Noise=0.3 | 0.5 | 0.7 | 0.8 | 0.9 |\n",
      "+------+-----------+-----+-----+-----+-----+\n",
      "| 0.2  |     /     |  /  |  /  |  /  |  /  |\n",
      "| 0.1  |     /     |  /  |  /  |  /  |  /  |\n",
      "| 0.05 |     /     |  /  |  /  |  /  |  /  |\n",
      "+------+-----------+-----+-----+-----+-----+\n"
     ]
    }
   ],
   "source": [
    "print(\"Train baseline\")\n",
    "\n",
    "table = PrettyTable([' ', 'Noise=0.3', '0.5', '0.7', '0.8', '0.9'])\n",
    "for lr in [0.2, 0.1, 0.05]:\n",
    "    test = [lr]\n",
    "    for noise in [0.3, 0.5, 0.7, 0.8, 0.9]:\n",
    "        acc = []\n",
    "        for index in range(5):\n",
    "            try:\n",
    "                print('record/baseline_new/acc_lr_%.3f_noise_%.2f_%d.txt'%(lr, noise, index))\n",
    "                file = open('record/baseline_new/acc_lr_%.3f_noise_%.2f_%d.txt'%(lr, noise, index))               \n",
    "                lines = file.readlines()\n",
    "                test_acc = []\n",
    "                for line in lines:\n",
    "                    new_line = re.split(':|,| |\\n', line.strip())\n",
    "                    test_acc.append(eval(new_line[12]))\n",
    "                acc.append(max(test_acc))\n",
    "                print(acc)\n",
    "            except:\n",
    "                pass\n",
    "        if len(acc)>0:\n",
    "            test.append(str(np.round(np.mean(acc),3)) + '(' + str(len(acc)) + ')')\n",
    "        else:\n",
    "            test.append('/')\n",
    "    table.add_row(test)\n",
    "print(table)\n",
    "\n"
   ]
  },
  {
   "cell_type": "code",
   "execution_count": 7,
   "metadata": {},
   "outputs": [
    {
     "name": "stdout",
     "output_type": "stream",
     "text": [
      "[0, 0, 1, 1, 2, 2, 3, 3, 4, 4, 5, 5, 6, 6, 7, 7, 8, 8, 9, 9]\n"
     ]
    }
   ],
   "source": [
    "print(sum([[i]*2 for i in range(10)], []))"
   ]
  },
  {
   "cell_type": "code",
   "execution_count": 12,
   "metadata": {},
   "outputs": [
    {
     "name": "stdout",
     "output_type": "stream",
     "text": [
      "[0.16666667 0.33333333 0.5       ]\n"
     ]
    }
   ],
   "source": [
    "a = [1,2,3]\n",
    "print(a/np.sum(a))"
   ]
  },
  {
   "cell_type": "code",
   "execution_count": 19,
   "metadata": {},
   "outputs": [
    {
     "name": "stdout",
     "output_type": "stream",
     "text": [
      "[0 0 0 0 0 1 1 1 1 1 2 2 2 2 2]\n",
      "[0 1 2 3 4]\n",
      "[5 6 7 8 9]\n",
      "[10 11 12 13 14]\n",
      "[array([0, 1, 2, 3, 4]), array([5, 6, 7, 8, 9]), array([10, 11, 12, 13, 14])]\n"
     ]
    }
   ],
   "source": [
    "y = np.array([0]*5+[1]*5+[2]*5)\n",
    "print(y)\n",
    "index_list = []\n",
    "for i in range(3):\n",
    "    indices = np.where(y==i)[0]\n",
    "    index_list.append(indices)\n",
    "    print(indices)\n",
    "print(index_list)"
   ]
  }
 ],
 "metadata": {
  "kernelspec": {
   "display_name": "Python 3",
   "language": "python",
   "name": "python3"
  },
  "language_info": {
   "codemirror_mode": {
    "name": "ipython",
    "version": 3
   },
   "file_extension": ".py",
   "mimetype": "text/x-python",
   "name": "python",
   "nbconvert_exporter": "python",
   "pygments_lexer": "ipython3",
   "version": "3.6.9"
  }
 },
 "nbformat": 4,
 "nbformat_minor": 2
}
