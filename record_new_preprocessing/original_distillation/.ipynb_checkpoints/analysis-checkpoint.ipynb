{
 "cells": [
  {
   "cell_type": "code",
   "execution_count": 3,
   "metadata": {},
   "outputs": [],
   "source": [
    "import string\n",
    "import numpy as np\n",
    "import matplotlib.pyplot as plt\n",
    "import os\n",
    "from prettytable import PrettyTable\n"
   ]
  },
  {
   "cell_type": "code",
   "execution_count": null,
   "metadata": {},
   "outputs": [],
   "source": [
    "architecture = [[64, 5, 5], [64, 5, 5], [32, 5, 5], [32, 5, 5], [16, 5, 5], [256]]\n",
    "\n",
    "    \n",
    "architecture = [[32, 5, 5], [32, 5, 5], [32, 5, 5], [64, 5, 5], [64, 5, 5], [256]]\n",
    "\n",
    "    \n",
    "architecture = [[32, 5, 5], [32, 5, 5], [32, 5, 5], [256]]\n",
    "\n",
    "    \n",
    "architecture = [[16, 5, 5], [32, 5, 5], [64, 5, 5], [256]]\n",
    "\n",
    "    "
   ]
  },
  {
   "cell_type": "code",
   "execution_count": 27,
   "metadata": {},
   "outputs": [],
   "source": [
    "def countFile(dir):\n",
    "    tmp = 0\n",
    "    for item in os.listdir(dir):\n",
    "        if os.path.isfile(os.path.join(dir, item)):\n",
    "            tmp += 1\n",
    "        else:\n",
    "            tmp += countFile(os.path.join(dir, item))\n",
    "    return tmp"
   ]
  },
  {
   "cell_type": "code",
   "execution_count": 35,
   "metadata": {},
   "outputs": [],
   "source": [
    "# dirs1\n",
    "def run_test(architecture):\n",
    "    table = PrettyTable(['noise', 'alpha', 'accuracy (mean max)'])\n",
    "    for noise_level in [0.5, 0.8, 0.9, 0.95]:        \n",
    "        alpha_list = [0.2, 0.25, 0.3, 0.35, 0.4, 0.45, 0.5, 0.55, 0.6, 0.65, 0.7, 0.75, 0.8, 0.85, 0.9, 0.95]\n",
    "        for learning_rate in [0.0003]:\n",
    "            folder = 'noise_level_' + str(noise_level) + '_learning_rate_' + str(learning_rate) + \\\n",
    "                    '/seed_10/architecture_' + str(architecture)\n",
    "\n",
    "            if os.path.exists(folder): \n",
    "                n = int(countFile(folder)/2)\n",
    "                print(n)\n",
    "                for i in range(len(alpha_list)):\n",
    "                    accuracy = np.zeros((n, 100))\n",
    "                    alpha = alpha_list[i]                  \n",
    "                    for index in range(n):\n",
    "                        file = open(folder + '/student_' + str(index) + '.txt')\n",
    "                        line = file.readlines()\n",
    "                        try:\n",
    "                                                        \n",
    "                            y = [float(x) for x in line[3+i*4].replace('[', '').replace(']', '').replace('\\n', '').split(',')]\n",
    "                            accuracy[index, 0:len(y)] = y\n",
    "                        except:\n",
    "                            accuracy = np.delete(accuracy, (index), axis=0)\n",
    "\n",
    "                    acc = np.mean(accuracy, axis=0)\n",
    "\n",
    "                    table.add_row([noise_level, alpha, np.round(np.mean(np.max(accuracy, axis=1)), decimals=3)])\n",
    "    print(table)"
   ]
  },
  {
   "cell_type": "code",
   "execution_count": 36,
   "metadata": {},
   "outputs": [
    {
     "name": "stdout",
     "output_type": "stream",
     "text": [
      "5\n",
      "4\n",
      "2\n",
      "4\n",
      "+-------+-------+---------------------+\n",
      "| noise | alpha | accuracy (mean max) |\n",
      "+-------+-------+---------------------+\n",
      "|  0.5  |  0.2  |        0.541        |\n",
      "|  0.5  |  0.25 |        0.549        |\n",
      "|  0.5  |  0.3  |        0.556        |\n",
      "|  0.5  |  0.35 |        0.565        |\n",
      "|  0.5  |  0.4  |        0.571        |\n",
      "|  0.5  |  0.45 |         0.58        |\n",
      "|  0.5  |  0.5  |        0.587        |\n",
      "|  0.5  |  0.55 |        0.595        |\n",
      "|  0.5  |  0.6  |        0.604        |\n",
      "|  0.5  |  0.65 |        0.608        |\n",
      "|  0.5  |  0.7  |        0.616        |\n",
      "|  0.5  |  0.75 |        0.624        |\n",
      "|  0.5  |  0.8  |        0.625        |\n",
      "|  0.5  |  0.85 |        0.626        |\n",
      "|  0.5  |  0.9  |        0.625        |\n",
      "|  0.5  |  0.95 |         0.62        |\n",
      "|  0.8  |  0.2  |        0.528        |\n",
      "|  0.8  |  0.25 |         0.53        |\n",
      "|  0.8  |  0.3  |        0.533        |\n",
      "|  0.8  |  0.35 |        0.536        |\n",
      "|  0.8  |  0.4  |        0.535        |\n",
      "|  0.8  |  0.45 |        0.537        |\n",
      "|  0.8  |  0.5  |        0.539        |\n",
      "|  0.8  |  0.55 |        0.541        |\n",
      "|  0.8  |  0.6  |         0.54        |\n",
      "|  0.8  |  0.65 |        0.537        |\n",
      "|  0.8  |  0.7  |        0.539        |\n",
      "|  0.8  |  0.75 |        0.535        |\n",
      "|  0.8  |  0.8  |        0.519        |\n",
      "|  0.8  |  0.85 |        0.508        |\n",
      "|  0.8  |  0.9  |        0.489        |\n",
      "|  0.8  |  0.95 |         0.47        |\n",
      "|  0.9  |  0.2  |         0.53        |\n",
      "|  0.9  |  0.25 |        0.531        |\n",
      "|  0.9  |  0.3  |        0.534        |\n",
      "|  0.9  |  0.35 |        0.529        |\n",
      "|  0.9  |  0.4  |         0.53        |\n",
      "|  0.9  |  0.45 |        0.527        |\n",
      "|  0.9  |  0.5  |        0.527        |\n",
      "|  0.9  |  0.55 |        0.524        |\n",
      "|  0.9  |  0.6  |        0.521        |\n",
      "|  0.9  |  0.65 |        0.508        |\n",
      "|  0.9  |  0.7  |        0.509        |\n",
      "|  0.9  |  0.75 |        0.495        |\n",
      "|  0.9  |  0.8  |        0.477        |\n",
      "|  0.9  |  0.85 |        0.445        |\n",
      "|  0.9  |  0.9  |        0.406        |\n",
      "|  0.9  |  0.95 |        0.357        |\n",
      "|  0.95 |  0.2  |        0.523        |\n",
      "|  0.95 |  0.25 |        0.523        |\n",
      "|  0.95 |  0.3  |        0.523        |\n",
      "|  0.95 |  0.35 |        0.523        |\n",
      "|  0.95 |  0.4  |        0.518        |\n",
      "|  0.95 |  0.45 |        0.518        |\n",
      "|  0.95 |  0.5  |        0.516        |\n",
      "|  0.95 |  0.55 |         0.51        |\n",
      "|  0.95 |  0.6  |        0.505        |\n",
      "|  0.95 |  0.65 |        0.496        |\n",
      "|  0.95 |  0.7  |        0.484        |\n",
      "|  0.95 |  0.75 |        0.469        |\n",
      "|  0.95 |  0.8  |        0.449        |\n",
      "|  0.95 |  0.85 |        0.412        |\n",
      "|  0.95 |  0.9  |        0.362        |\n",
      "|  0.95 |  0.95 |        0.226        |\n",
      "+-------+-------+---------------------+\n"
     ]
    }
   ],
   "source": [
    "architecture = [[32, 5, 5], [32, 5, 5], [32, 5, 5], [1000]]\n",
    "run_test(architecture)"
   ]
  },
  {
   "cell_type": "code",
   "execution_count": 11,
   "metadata": {},
   "outputs": [
    {
     "name": "stdout",
     "output_type": "stream",
     "text": [
      "0.95\n"
     ]
    }
   ],
   "source": []
  },
  {
   "cell_type": "code",
   "execution_count": null,
   "metadata": {},
   "outputs": [],
   "source": []
  },
  {
   "cell_type": "code",
   "execution_count": null,
   "metadata": {},
   "outputs": [],
   "source": []
  },
  {
   "cell_type": "code",
   "execution_count": null,
   "metadata": {},
   "outputs": [],
   "source": []
  },
  {
   "cell_type": "code",
   "execution_count": null,
   "metadata": {},
   "outputs": [],
   "source": []
  },
  {
   "cell_type": "code",
   "execution_count": null,
   "metadata": {},
   "outputs": [],
   "source": []
  },
  {
   "cell_type": "code",
   "execution_count": null,
   "metadata": {},
   "outputs": [],
   "source": []
  },
  {
   "cell_type": "code",
   "execution_count": null,
   "metadata": {},
   "outputs": [],
   "source": []
  },
  {
   "cell_type": "code",
   "execution_count": null,
   "metadata": {},
   "outputs": [],
   "source": []
  },
  {
   "cell_type": "code",
   "execution_count": null,
   "metadata": {},
   "outputs": [],
   "source": []
  },
  {
   "cell_type": "code",
   "execution_count": null,
   "metadata": {},
   "outputs": [],
   "source": []
  }
 ],
 "metadata": {
  "kernelspec": {
   "display_name": "Python 3",
   "language": "python",
   "name": "python3"
  },
  "language_info": {
   "codemirror_mode": {
    "name": "ipython",
    "version": 3
   },
   "file_extension": ".py",
   "mimetype": "text/x-python",
   "name": "python",
   "nbconvert_exporter": "python",
   "pygments_lexer": "ipython3",
   "version": "3.6.7"
  }
 },
 "nbformat": 4,
 "nbformat_minor": 2
}
