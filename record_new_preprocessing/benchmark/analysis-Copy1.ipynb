{
 "cells": [
  {
   "cell_type": "code",
   "execution_count": 1,
   "metadata": {},
   "outputs": [],
   "source": [
    "import string\n",
    "import numpy as np\n",
    "import matplotlib.pyplot as plt\n",
    "import os\n",
    "from prettytable import PrettyTable\n"
   ]
  },
  {
   "cell_type": "code",
   "execution_count": null,
   "metadata": {},
   "outputs": [],
   "source": [
    "architecture = [[64, 5, 5], [64, 5, 5], [32, 5, 5], [32, 5, 5], [16, 5, 5], [1000]]\n",
    "\n",
    "    \n",
    "architecture = [[32, 5, 5], [32, 5, 5], [32, 5, 5], [1000]]\n",
    "\n",
    "    \n",
    "architecture = [[64, 5, 5], [32, 5, 5], [16, 5, 5], [1000]]\n",
    "\n",
    "    "
   ]
  },
  {
   "cell_type": "code",
   "execution_count": 7,
   "metadata": {},
   "outputs": [],
   "source": [
    "# dirs1\n",
    "def run_test():\n",
    "    table = PrettyTable(['architecture', 'noise', 'max mean', 'mean max'])\n",
    "    for noise in [0.5, 0.8]:\n",
    "        for architecture in [[[64, 5, 5], [64, 5, 5], [32, 5, 5], [32, 5, 5], [16, 5, 5], [1000]], [[32, 5, 5], [32, 5, 5], [32, 5, 5], [1000]], [[64, 5, 5], [32, 5, 5], [16, 5, 5], [1000]]]:                \n",
    "            for learning_rate in [0.0003]:\n",
    "                folder = 'noise_' + str(noise) + '_lr_' + str(learning_rate) + '_clean_data_size_250/' + str(architecture)\n",
    "                accuracy = np.zeros((5, 50))\n",
    "\n",
    "                for index in range(5):\n",
    "                    file = open(folder + '/benchmark' + str(index) + '.txt')\n",
    "                    line = file.readlines()\n",
    "                    accuracy[index] = [float(x) for x in line[3].replace('[', '').replace(']', '').replace('\\n', '').split(',')]\n",
    "\n",
    "                acc = np.mean(accuracy, axis=0)\n",
    "\n",
    "                table.add_row([str(architecture), noise, np.round(np.max(acc), decimals=3), np.round(np.mean(np.max(accuracy, axis=1)), decimals=3)])\n",
    "    print(table)"
   ]
  },
  {
   "cell_type": "code",
   "execution_count": 8,
   "metadata": {},
   "outputs": [
    {
     "name": "stdout",
     "output_type": "stream",
     "text": [
      "+----------------------------------------------------------------------+-------+----------+----------+\n",
      "|                             architecture                             | noise | max mean | mean max |\n",
      "+----------------------------------------------------------------------+-------+----------+----------+\n",
      "| [[64, 5, 5], [64, 5, 5], [32, 5, 5], [32, 5, 5], [16, 5, 5], [1000]] |  0.5  |  0.619   |  0.622   |\n",
      "|             [[32, 5, 5], [32, 5, 5], [32, 5, 5], [1000]]             |  0.5  |  0.614   |  0.617   |\n",
      "|             [[64, 5, 5], [32, 5, 5], [16, 5, 5], [1000]]             |  0.5  |  0.615   |  0.618   |\n",
      "| [[64, 5, 5], [64, 5, 5], [32, 5, 5], [32, 5, 5], [16, 5, 5], [1000]] |  0.8  |   0.42   |  0.424   |\n",
      "|             [[32, 5, 5], [32, 5, 5], [32, 5, 5], [1000]]             |  0.8  |  0.424   |  0.424   |\n",
      "|             [[64, 5, 5], [32, 5, 5], [16, 5, 5], [1000]]             |  0.8  |  0.405   |  0.408   |\n",
      "+----------------------------------------------------------------------+-------+----------+----------+\n"
     ]
    }
   ],
   "source": [
    "run_test()"
   ]
  },
  {
   "cell_type": "code",
   "execution_count": 28,
   "metadata": {},
   "outputs": [
    {
     "name": "stdout",
     "output_type": "stream",
     "text": [
      "architecture: [[64, 5, 5], [64, 5, 5], [32, 5, 5], [32, 5, 5], [16, 5, 5], [256]]\n",
      "+-----------+-----------+---------------+----------+----------+\n",
      "| threshold | criterion | learning rate | max mean | mean max |\n",
      "+-----------+-----------+---------------+----------+----------+\n",
      "|    0.85   |     80    |     0.0001    |  0.393   |  0.398   |\n",
      "|    0.85   |     80    |     0.0003    |  0.396   |  0.399   |\n",
      "|    0.9    |     80    |     0.0001    |  0.386   |   0.39   |\n",
      "|    0.9    |     80    |     0.0003    |  0.391   |  0.397   |\n",
      "+-----------+-----------+---------------+----------+----------+\n",
      "architecture: [[32, 5, 5], [32, 5, 5], [32, 5, 5], [64, 5, 5], [64, 5, 5], [256]]\n",
      "+-----------+-----------+---------------+----------+----------+\n",
      "| threshold | criterion | learning rate | max mean | mean max |\n",
      "+-----------+-----------+---------------+----------+----------+\n",
      "|    0.85   |     80    |     0.0001    |  0.391   |  0.395   |\n",
      "|    0.85   |     80    |     0.0003    |  0.395   |  0.401   |\n",
      "|    0.9    |     80    |     0.0001    |  0.387   |  0.393   |\n",
      "|    0.9    |     80    |     0.0003    |  0.388   |  0.393   |\n",
      "+-----------+-----------+---------------+----------+----------+\n",
      "architecture: [[32, 5, 5], [32, 5, 5], [32, 5, 5], [256]]\n",
      "+-----------+-----------+---------------+----------+----------+\n",
      "| threshold | criterion | learning rate | max mean | mean max |\n",
      "+-----------+-----------+---------------+----------+----------+\n",
      "|    0.85   |     80    |     0.0001    |  0.395   |  0.402   |\n",
      "|    0.85   |     80    |     0.0003    |  0.395   |  0.399   |\n",
      "|    0.9    |     80    |     0.0001    |  0.391   |  0.396   |\n",
      "|    0.9    |     80    |     0.0003    |  0.393   |  0.398   |\n",
      "+-----------+-----------+---------------+----------+----------+\n",
      "architecture: [[16, 5, 5], [32, 5, 5], [64, 5, 5], [256]]\n",
      "+-----------+-----------+---------------+----------+----------+\n",
      "| threshold | criterion | learning rate | max mean | mean max |\n",
      "+-----------+-----------+---------------+----------+----------+\n",
      "|    0.85   |     80    |     0.0001    |  0.394   |  0.399   |\n",
      "|    0.85   |     80    |     0.0003    |  0.389   |  0.396   |\n",
      "|    0.9    |     80    |     0.0001    |  0.382   |  0.386   |\n",
      "|    0.9    |     80    |     0.0003    |  0.389   |  0.393   |\n",
      "+-----------+-----------+---------------+----------+----------+\n"
     ]
    }
   ],
   "source": [
    "architecture = [[64, 5, 5], [64, 5, 5], [32, 5, 5], [32, 5, 5], [16, 5, 5], [256]]\n",
    "run_test(architecture)\n",
    "    \n",
    "architecture = [[32, 5, 5], [32, 5, 5], [32, 5, 5], [64, 5, 5], [64, 5, 5], [256]]\n",
    "run_test(architecture)\n",
    "    \n",
    "architecture = [[32, 5, 5], [32, 5, 5], [32, 5, 5], [256]]\n",
    "run_test(architecture)\n",
    "    \n",
    "architecture = [[16, 5, 5], [32, 5, 5], [64, 5, 5], [256]]\n",
    "run_test(architecture)\n",
    "    "
   ]
  },
  {
   "cell_type": "code",
   "execution_count": null,
   "metadata": {},
   "outputs": [],
   "source": []
  },
  {
   "cell_type": "code",
   "execution_count": null,
   "metadata": {},
   "outputs": [],
   "source": []
  },
  {
   "cell_type": "code",
   "execution_count": null,
   "metadata": {},
   "outputs": [],
   "source": []
  },
  {
   "cell_type": "code",
   "execution_count": null,
   "metadata": {},
   "outputs": [],
   "source": []
  },
  {
   "cell_type": "code",
   "execution_count": 5,
   "metadata": {},
   "outputs": [
    {
     "name": "stdout",
     "output_type": "stream",
     "text": [
      "[[0.718 0.674 0.447 0.358 0.233 0.671 0.794 0.817 0.78  0.63 ]\n",
      " [0.722 0.774 0.465 0.38  0.42  0.658 0.789 0.876 0.8   0.658]\n",
      " [0.721 0.784 0.496 0.402 0.464 0.688 0.771 0.868 0.806 0.667]\n",
      " [0.727 0.757 0.471 0.429 0.42  0.693 0.782 0.887 0.828 0.667]\n",
      " [0.718 0.772 0.477 0.382 0.52  0.694 0.865 0.892 0.832 0.691]\n",
      " [0.72  0.792 0.487 0.382 0.402 0.713 0.892 0.901 0.851 0.682]\n",
      " [0.731 0.79  0.494 0.372 0.433 0.681 0.869 0.895 0.867 0.686]\n",
      " [0.719 0.784 0.475 0.374 0.443 0.695 0.87  0.905 0.863 0.701]\n",
      " [0.729 0.788 0.467 0.372 0.448 0.702 0.867 0.895 0.871 0.681]\n",
      " [0.728 0.778 0.488 0.377 0.453 0.7   0.858 0.891 0.862 0.697]]\n",
      "[[571. 892. 206. 399. 116. 474.  97. 715. 455. 848.]\n",
      " [805. 544. 185. 347.  81. 351. 227. 500. 641. 734.]\n",
      " [829. 616. 125. 249.  69. 276. 192. 453. 494. 526.]\n",
      " [828. 736. 227. 198.  50. 202. 142. 371. 424. 493.]\n",
      " [834. 754. 239. 338.  50. 144. 111. 332. 417. 375.]\n",
      " [832. 775. 236. 348. 102. 115.  83. 292. 403. 308.]\n",
      " [821. 748. 259. 363. 104. 238.  61. 248. 286. 239.]\n",
      " [864. 786. 257. 364.  88. 243. 138. 241. 291. 261.]\n",
      " [840. 780. 244. 374.  87. 248. 135. 372. 286. 232.]\n",
      " [820. 824. 254. 390.  86. 227. 134. 421. 434. 198.]]\n",
      "bagging_threshold_0.95_add_criterion_90_minimum_additional_size_50/seed_10/\n"
     ]
    },
    {
     "data": {
      "text/plain": [
       "<Figure size 432x288 with 0 Axes>"
      ]
     },
     "metadata": {},
     "output_type": "display_data"
    },
    {
     "data": {
      "image/png": "[encoded data removed]",
      "text/plain": [
       "<Figure size 720x432 with 1 Axes>"
      ]
     },
     "metadata": {
      "needs_background": "light"
     },
     "output_type": "display_data"
    },
    {
     "name": "stdout",
     "output_type": "stream",
     "text": [
      "+-----------------+----------+----------+-------+\n",
      "|       line      | max mean | mean max |  Last |\n",
      "+-----------------+----------+----------+-------+\n",
      "|  student, λ=0.8 |  0.422   |  0.424   | 0.254 |\n",
      "| student, λ=0.85 |  0.424   |  0.427   | 0.226 |\n",
      "|  student, λ=0.9 |  0.426   |  0.426   | 0.203 |\n",
      "| student, λ=0.95 |  0.404   |  0.408   | 0.178 |\n",
      "+-----------------+----------+----------+-------+\n"
     ]
    }
   ],
   "source": [
    "# dirs1\n",
    "\n",
    "for threshold in [0.95]:\n",
    "    for criterion in [90]:\n",
    "        folder = 'bagging_threshold_' + str(threshold) + '_add_criterion_' + str(criterion) + \\\n",
    "                '_minimum_additional_size_50/seed_10/'\n",
    "        precision_file = open(folder + 'precision_file.txt')\n",
    "        \n",
    "        line = precision_file.readlines()\n",
    "        precision = np.zeros((10, 10))\n",
    "        number = np.zeros((10, 10))\n",
    "        for i in range(10):\n",
    "            precision[:, i] = [float(x) for x in line[i*2].replace('[', '').replace(']', '').replace('\\n', '').split(',')]\n",
    "            number[:, i] = [int(x) for x in line[i*2+1].replace('[', '').replace(']', '').replace('\\n', '').split(',')]\n",
    "            \n",
    "        print(np.around(precision, decimals=3))\n",
    "        print(number)\n",
    "        print(folder)\n",
    "        lambda_list = [0.8, 0.85, 0.9, 0.95]\n",
    "        student_accuracy = np.zeros((4, 5, 50))\n",
    "        for lambda_i in range(4):\n",
    "            for index in range(5):\n",
    "                student_file = open(folder + 'bagging_teacher_file_student_' + str(index) + '.txt')\n",
    "                \n",
    "                line = student_file.readlines()\n",
    "                student_accuracy[lambda_i, index, :] = [float(x) for x in line[lambda_i*4+3].replace('[', '').replace(']', '').replace('\\n', '').split(',')]\n",
    "                \n",
    "        student_acc = np.mean(student_accuracy, axis=1)\n",
    "        \n",
    "        plt.figure(1) # 创建图表1\n",
    "        plt.figure(figsize=(10,6))\n",
    "       \n",
    "        for lambda_i in range(4):\n",
    "            plt.plot(np.arange(50)+1, student_acc[lambda_i], label='student, $\\lambda$=%.1f'%lambda_list[lambda_i])\n",
    "        \n",
    "        plt.legend()\n",
    "        plt.grid()\n",
    "        plt.ylim(0,1)\n",
    "        plt.xlabel('epoch')\n",
    "        plt.ylabel('accuracy')\n",
    "        plt.title('confident threshold %.2f, adding criterion %d'%(threshold, criterion))\n",
    "\n",
    "#         dirs1 = 'figure/' + dirs\n",
    "#         if not os.path.exists(dirs1):\n",
    "#             os.makedirs(dirs1)\n",
    "#         plt.savefig(dirs1 + 'bagging_threshold_' + str(threshold) + '_add_criterion_' + str(criterion) + '_minimum_additional_size_50.png')\n",
    "        plt.show()\n",
    "        \n",
    "        table = PrettyTable(['line', 'max mean', 'mean max', 'Last'])\n",
    "        for i in range(4):\n",
    "            table.add_row(['student, λ='+str(lambda_list[i]), np.round(np.max(student_acc[i]), decimals=3), np.round(np.mean(np.max(student_accuracy[i], axis=1)), decimals=3), np.round(student_acc[i, -1], decimals=3)])\n",
    "        print(table)"
   ]
  },
  {
   "cell_type": "code",
   "execution_count": 6,
   "metadata": {},
   "outputs": [
    {
     "name": "stdout",
     "output_type": "stream",
     "text": [
      "[[-0.23292047 -0.6967951   0.62013288 -1.19209395  0.16948399 -0.27394572]\n",
      " [ 0.73744297 -0.77609235 -0.27596667 -0.70944411  0.68959433 -0.06766058]\n",
      " [-1.33254973 -1.43695537  1.50781456  0.32355214  0.66979037  0.97987055]]\n",
      "[0.62013288 0.73744297 1.50781456]\n"
     ]
    }
   ],
   "source": [
    "a = np.random.randn(3,6)\n",
    "print(a)\n",
    "print(np.max(a, axis=1))"
   ]
  },
  {
   "cell_type": "code",
   "execution_count": 9,
   "metadata": {},
   "outputs": [
    {
     "name": "stdout",
     "output_type": "stream",
     "text": [
      "[[ 0.21103878 -1.26558051 -0.44026078  0.57333382  0.45731755  0.\n",
      "   0.          0.          0.          0.        ]\n",
      " [ 0.          0.          0.          0.          0.          0.\n",
      "   0.          0.          0.          0.        ]]\n"
     ]
    }
   ],
   "source": [
    "a = np.zeros((2,10))\n",
    "a[0, 0:5] = np.random.randn(5)\n",
    "print(a)"
   ]
  },
  {
   "cell_type": "code",
   "execution_count": null,
   "metadata": {},
   "outputs": [],
   "source": []
  }
 ],
 "metadata": {
  "kernelspec": {
   "display_name": "Python 3",
   "language": "python",
   "name": "python3"
  },
  "language_info": {
   "codemirror_mode": {
    "name": "ipython",
    "version": 3
   },
   "file_extension": ".py",
   "mimetype": "text/x-python",
   "name": "python",
   "nbconvert_exporter": "python",
   "pygments_lexer": "ipython3",
   "version": "3.6.7"
  }
 },
 "nbformat": 4,
 "nbformat_minor": 2
}
