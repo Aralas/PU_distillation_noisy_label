{
 "cells": [
  {
   "cell_type": "code",
   "execution_count": 1,
   "metadata": {},
   "outputs": [],
   "source": [
    "import string\n",
    "import numpy as np\n",
    "import matplotlib.pyplot as plt\n",
    "import os\n",
    "from prettytable import PrettyTable\n"
   ]
  },
  {
   "cell_type": "code",
   "execution_count": null,
   "metadata": {},
   "outputs": [],
   "source": [
    "# dirs1\n",
    "\n",
    "for threshold in [0.9]:\n",
    "    for criterion in [75, 85, 90]:\n",
    "        folder = 'bagging_threshold_' + str(threshold) + '_add_criterion_' + str(criterion) + \\\n",
    "                '_minimum_additional_size_50/seed_10/'\n",
    "        precision_file = open(folder + 'precision_file.txt')\n",
    "        \n",
    "        line = precision_file.readlines()\n",
    "        precision = np.zeros((10, 10))\n",
    "        number = np.zeros((10, 10))\n",
    "        for i in range(10):\n",
    "            precision[:, i] = [float(x) for x in line[i*2].replace('[', '').replace(']', '').replace('\\n', '').split(',')]\n",
    "            number[:, i] = [int(x) for x in line[i*2+1].replace('[', '').replace(']', '').replace('\\n', '').split(',')]\n",
    "            \n",
    "        print(np.around(precision, decimals=3))\n",
    "        print(number)\n",
    "        print(folder)\n",
    "        lambda_list = [0.8, 0.85, 0.9, 0.95]\n",
    "        student_accuracy = np.zeros((4, 5, 50))\n",
    "        for lambda_i in range(4):\n",
    "            for index in range(5):\n",
    "                student_file = open(folder + 'bagging_teacher_file_student_' + str(index) + '.txt')\n",
    "                \n",
    "                line = student_file.readlines()\n",
    "                student_accuracy[lambda_i, index, :] = [float(x) for x in line[lambda_i*4+3].replace('[', '').replace(']', '').replace('\\n', '').split(',')]\n",
    "                \n",
    "        student_acc = np.mean(student_accuracy, axis=1)\n",
    "        \n",
    "        plt.figure(1) # 创建图表1\n",
    "        plt.figure(figsize=(10,6))\n",
    "       \n",
    "        for lambda_i in range(4):\n",
    "            plt.plot(np.arange(50)+1, student_acc[lambda_i], label='student, $\\lambda$=%.1f'%lambda_list[lambda_i])\n",
    "        \n",
    "        plt.legend()\n",
    "        plt.grid()\n",
    "        plt.ylim(0,1)\n",
    "        plt.xlabel('epoch')\n",
    "        plt.ylabel('accuracy')\n",
    "        plt.title('confident threshold %.2f, adding criterion %d'%(threshold, criterion))\n",
    "\n",
    "#         dirs1 = 'figure/' + dirs\n",
    "#         if not os.path.exists(dirs1):\n",
    "#             os.makedirs(dirs1)\n",
    "#         plt.savefig(dirs1 + 'bagging_threshold_' + str(threshold) + '_add_criterion_' + str(criterion) + '_minimum_additional_size_50.png')\n",
    "        plt.show()\n",
    "        \n",
    "        table = PrettyTable(['line', 'max mean', 'mean max', 'Last'])\n",
    "        for i in range(4):\n",
    "            table.add_row(['student, λ='+str(lambda_list[i]), np.round(np.max(student_acc[i]), decimals=3), np.round(np.mean(np.max(student_accuracy[i], axis=0)), decimals=3), np.round(student_acc[i, -1], decimals=3)])\n",
    "        print(table)"
   ]
  },
  {
   "cell_type": "code",
   "execution_count": 2,
   "metadata": {},
   "outputs": [
    {
     "name": "stdout",
     "output_type": "stream",
     "text": [
      "(5, 10)\n"
     ]
    }
   ],
   "source": [
    "a = np.random.randn(4,5,10)\n",
    "print(a[0].shape)"
   ]
  },
  {
   "cell_type": "code",
   "execution_count": null,
   "metadata": {},
   "outputs": [],
   "source": []
  }
 ],
 "metadata": {
  "kernelspec": {
   "display_name": "Python 3",
   "language": "python",
   "name": "python3"
  },
  "language_info": {
   "codemirror_mode": {
    "name": "ipython",
    "version": 3
   },
   "file_extension": ".py",
   "mimetype": "text/x-python",
   "name": "python",
   "nbconvert_exporter": "python",
   "pygments_lexer": "ipython3",
   "version": "3.6.7"
  }
 },
 "nbformat": 4,
 "nbformat_minor": 2
}
